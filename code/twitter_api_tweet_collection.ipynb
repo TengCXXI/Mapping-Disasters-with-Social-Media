{
 "cells": [
  {
   "cell_type": "markdown",
   "metadata": {},
   "source": [
    "# Twitter API and Tweet Collection"
   ]
  },
  {
   "cell_type": "markdown",
   "metadata": {},
   "source": [
    "References:\n",
    "- https://www.earthdatascience.org/courses/earth-analytics-python/using-apis-natural-language-processing-twitter/get-and-use-twitter-data-in-python/"
   ]
  },
  {
   "cell_type": "code",
   "execution_count": 1,
   "metadata": {},
   "outputs": [
    {
     "name": "stdout",
     "output_type": "stream",
     "text": [
      "^C\n"
     ]
    }
   ],
   "source": [
    "# !pip install tweepy"
   ]
  },
  {
   "cell_type": "code",
   "execution_count": 2,
   "metadata": {},
   "outputs": [],
   "source": [
    "import tweepy\n",
    "import pandas as pd\n",
    "import json"
   ]
  },
  {
   "cell_type": "code",
   "execution_count": 3,
   "metadata": {},
   "outputs": [],
   "source": [
    "# Load credentials from json file\n",
    "with open(\"twitter_credentials.json\", \"r\") as file:\n",
    "    creds = json.load(file)"
   ]
  },
  {
   "cell_type": "code",
   "execution_count": 4,
   "metadata": {},
   "outputs": [],
   "source": [
    "# Set access info to credentials\n",
    "consumer_key= creds['CONSUMER_KEY']\n",
    "consumer_secret= creds['CONSUMER_SECRET']\n",
    "access_token= creds['ACCESS_TOKEN']\n",
    "access_token_secret= creds['ACCESS_SECRET']"
   ]
  },
  {
   "cell_type": "code",
   "execution_count": 5,
   "metadata": {},
   "outputs": [],
   "source": [
    "auth = tweepy.OAuthHandler(consumer_key, consumer_secret)\n",
    "auth.set_access_token(access_token, access_token_secret)\n",
    "api = tweepy.API(auth, wait_on_rate_limit=True)"
   ]
  },
  {
   "cell_type": "code",
   "execution_count": 245,
   "metadata": {},
   "outputs": [],
   "source": [
    "search_words = \"'flood' -filter:retweets\"\n",
    "date_since = \"2018-09-13\"\n",
    "result_type = \"mixed\"\n",
    "# since_id = \"1154109669021036546\"       # enter the id_str from the last ID of the tweets you got from the last loop"
   ]
  },
  {
   "cell_type": "code",
   "execution_count": 246,
   "metadata": {},
   "outputs": [
    {
     "data": {
      "text/plain": [
       "<tweepy.cursor.ItemIterator at 0x2c01e702160>"
      ]
     },
     "execution_count": 246,
     "metadata": {},
     "output_type": "execute_result"
    }
   ],
   "source": [
    "tweets = tweepy.Cursor(api.search,\n",
    "                       q=search_words,\n",
    "                       lang=\"en\",\n",
    "                       since=date_since,\n",
    "                       result_type=result_type,\n",
    "#                        since_id=since_id\n",
    "                      ).items(500)\n",
    "tweets"
   ]
  },
  {
   "cell_type": "code",
   "execution_count": 247,
   "metadata": {},
   "outputs": [],
   "source": [
    "tweets_json = [[\n",
    "                tweet.user.screen_name, \n",
    "                tweet.id_str, \n",
    "                tweet.created_at, \n",
    "                tweet.coordinates, \n",
    "                tweet.place,\n",
    "                tweet.text, \n",
    "                tweet.geo \n",
    "                ] for tweet in tweets]"
   ]
  },
  {
   "cell_type": "code",
   "execution_count": 248,
   "metadata": {},
   "outputs": [],
   "source": [
    "tweets_df = pd.DataFrame(tweets_json, columns = [ \n",
    "                                                'screen_name', \n",
    "                                                'id_str', \n",
    "                                                'created_at',\n",
    "                                                'coordinates',\n",
    "                                                'place', \n",
    "                                                'text',\n",
    "                                                'geo_location'\n",
    "                                               ])"
   ]
  },
  {
   "cell_type": "code",
   "execution_count": 249,
   "metadata": {
    "scrolled": true
   },
   "outputs": [
    {
     "data": {
      "text/html": [
       "<div>\n",
       "<style scoped>\n",
       "    .dataframe tbody tr th:only-of-type {\n",
       "        vertical-align: middle;\n",
       "    }\n",
       "\n",
       "    .dataframe tbody tr th {\n",
       "        vertical-align: top;\n",
       "    }\n",
       "\n",
       "    .dataframe thead th {\n",
       "        text-align: right;\n",
       "    }\n",
       "</style>\n",
       "<table border=\"1\" class=\"dataframe\">\n",
       "  <thead>\n",
       "    <tr style=\"text-align: right;\">\n",
       "      <th></th>\n",
       "      <th>screen_name</th>\n",
       "      <th>id_str</th>\n",
       "      <th>created_at</th>\n",
       "      <th>coordinates</th>\n",
       "      <th>place</th>\n",
       "      <th>text</th>\n",
       "      <th>geo_location</th>\n",
       "    </tr>\n",
       "  </thead>\n",
       "  <tbody>\n",
       "    <tr>\n",
       "      <th>495</th>\n",
       "      <td>leahmcelrath</td>\n",
       "      <td>1153485320878534656</td>\n",
       "      <td>2019-07-23 02:01:45</td>\n",
       "      <td>None</td>\n",
       "      <td>None</td>\n",
       "      <td>Seriously:\\n\\nUrban “flood water” isn’t just w...</td>\n",
       "      <td>None</td>\n",
       "    </tr>\n",
       "    <tr>\n",
       "      <th>496</th>\n",
       "      <td>JaTapps</td>\n",
       "      <td>1153485316654682112</td>\n",
       "      <td>2019-07-23 02:01:44</td>\n",
       "      <td>None</td>\n",
       "      <td>None</td>\n",
       "      <td>@wolfgar77 @TJimjones @RlalbrechtTroy @Canna42...</td>\n",
       "      <td>None</td>\n",
       "    </tr>\n",
       "    <tr>\n",
       "      <th>497</th>\n",
       "      <td>SourD420_</td>\n",
       "      <td>1153485308941479936</td>\n",
       "      <td>2019-07-23 02:01:43</td>\n",
       "      <td>None</td>\n",
       "      <td>None</td>\n",
       "      <td>So in 24hrs I've had to deal with a blackout, ...</td>\n",
       "      <td>None</td>\n",
       "    </tr>\n",
       "    <tr>\n",
       "      <th>498</th>\n",
       "      <td>KVOAWeather</td>\n",
       "      <td>1153485263349407744</td>\n",
       "      <td>2019-07-23 02:01:32</td>\n",
       "      <td>None</td>\n",
       "      <td>None</td>\n",
       "      <td>TWC cancels Flash Flood Warning for Pima, Sant...</td>\n",
       "      <td>None</td>\n",
       "    </tr>\n",
       "    <tr>\n",
       "      <th>499</th>\n",
       "      <td>iembot_twc</td>\n",
       "      <td>1153485263345205250</td>\n",
       "      <td>2019-07-23 02:01:32</td>\n",
       "      <td>None</td>\n",
       "      <td>None</td>\n",
       "      <td>TWC cancels Flash Flood Warning for Pima, Sant...</td>\n",
       "      <td>None</td>\n",
       "    </tr>\n",
       "  </tbody>\n",
       "</table>\n",
       "</div>"
      ],
      "text/plain": [
       "      screen_name               id_str          created_at coordinates place  \\\n",
       "495  leahmcelrath  1153485320878534656 2019-07-23 02:01:45        None  None   \n",
       "496       JaTapps  1153485316654682112 2019-07-23 02:01:44        None  None   \n",
       "497     SourD420_  1153485308941479936 2019-07-23 02:01:43        None  None   \n",
       "498   KVOAWeather  1153485263349407744 2019-07-23 02:01:32        None  None   \n",
       "499    iembot_twc  1153485263345205250 2019-07-23 02:01:32        None  None   \n",
       "\n",
       "                                                  text geo_location  \n",
       "495  Seriously:\\n\\nUrban “flood water” isn’t just w...         None  \n",
       "496  @wolfgar77 @TJimjones @RlalbrechtTroy @Canna42...         None  \n",
       "497  So in 24hrs I've had to deal with a blackout, ...         None  \n",
       "498  TWC cancels Flash Flood Warning for Pima, Sant...         None  \n",
       "499  TWC cancels Flash Flood Warning for Pima, Sant...         None  "
      ]
     },
     "execution_count": 249,
     "metadata": {},
     "output_type": "execute_result"
    }
   ],
   "source": [
    "tweets_df.tail()"
   ]
  },
  {
   "cell_type": "code",
   "execution_count": 250,
   "metadata": {},
   "outputs": [],
   "source": [
    "tweets_df[\"text_count\"] = [len(tweets_df['text'][s].split()) for s in range(len(tweets_df['text']))]"
   ]
  },
  {
   "cell_type": "code",
   "execution_count": 251,
   "metadata": {
    "scrolled": true
   },
   "outputs": [
    {
     "data": {
      "text/plain": [
       "(500, 8)"
      ]
     },
     "execution_count": 251,
     "metadata": {},
     "output_type": "execute_result"
    }
   ],
   "source": [
    "tweets_df.shape"
   ]
  },
  {
   "cell_type": "code",
   "execution_count": 252,
   "metadata": {},
   "outputs": [],
   "source": [
    "# Save the tweets dataframe to a csv file\n",
    "tweets_df.to_csv('../datasets/tweets_flood_1.csv', index=False)"
   ]
  }
 ],
 "metadata": {
  "kernelspec": {
   "display_name": "Python 3",
   "language": "python",
   "name": "python3"
  },
  "language_info": {
   "codemirror_mode": {
    "name": "ipython",
    "version": 3
   },
   "file_extension": ".py",
   "mimetype": "text/x-python",
   "name": "python",
   "nbconvert_exporter": "python",
   "pygments_lexer": "ipython3",
   "version": "3.7.3"
  }
 },
 "nbformat": 4,
 "nbformat_minor": 2
}
