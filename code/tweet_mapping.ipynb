{
 "cells": [
  {
   "cell_type": "markdown",
   "metadata": {},
   "source": [
    "# Tweet Mapping"
   ]
  },
  {
   "cell_type": "markdown",
   "metadata": {},
   "source": [
    "\n",
    "\n",
    "\n",
    "\n",
    "Referrences: \n",
    "- https://www.geeksforgeeks.org/python-plotting-google-map-using-gmplot-package/\n"
   ]
  },
  {
   "cell_type": "markdown",
   "metadata": {},
   "source": [
    "### Installs and Imports"
   ]
  },
  {
   "cell_type": "code",
   "execution_count": 1,
   "metadata": {
    "scrolled": false
   },
   "outputs": [],
   "source": [
    "# !pip install gmplot"
   ]
  },
  {
   "cell_type": "code",
   "execution_count": 2,
   "metadata": {},
   "outputs": [],
   "source": [
    "import pandas as pd\n",
    "import gmplot \n",
    "import json\n",
    "import numpy as np\n",
    "from statistics import mean "
   ]
  },
  {
   "cell_type": "markdown",
   "metadata": {},
   "source": [
    "### Test of Google Maps"
   ]
  },
  {
   "cell_type": "code",
   "execution_count": 3,
   "metadata": {},
   "outputs": [],
   "source": [
    "# Load Google credentials from json file\n",
    "with open(\"google_credentials.json\", \"r\") as file:\n",
    "    creds = json.load(file)\n",
    "    \n",
    "# Set access info to credentials\n",
    "api_key = creds['API_KEY']"
   ]
  },
  {
   "cell_type": "raw",
   "metadata": {},
   "source": [
    "# Referred to the following link for code:\n",
    "# https://www.geeksforgeeks.org/python-plotting-google-map-using-gmplot-package/\n",
    "\n",
    "# GoogleMapPlotter return Map object \n",
    "# Pass the center latitude and center longitude \n",
    "gmap = gmplot.GoogleMapPlotter(42.3601, -71.0589, 13) \n",
    "\n",
    "# Access Google Maps with API key\n",
    "gmap.apikey = api_key\n",
    "\n",
    "# Save map to folder \n",
    "gmap.draw(\"..\\maps\\map1.html\") "
   ]
  },
  {
   "cell_type": "raw",
   "metadata": {},
   "source": [
    "# Referred to the following link for code:\n",
    "# https://www.geeksforgeeks.org/python-plotting-google-map-using-gmplot-package/\n",
    "\n",
    "# Create heatmap with latitude and longitude list\n",
    "\n",
    "latitude_list = [30.3358376, \n",
    "                 30.307977, \n",
    "                 30.3216419, \n",
    "                 30.3427904, \n",
    "                 30.378598, \n",
    "                 30.3548185, \n",
    "                 30.3345816, \n",
    "                 30.387299, \n",
    "                 30.3272198, \n",
    "                 30.3840597, \n",
    "                 30.4158, \n",
    "                 30.340426, \n",
    "                 30.3984348, \n",
    "                 30.3431313, \n",
    "                 30.273471] \n",
    "  \n",
    "longitude_list = [77.8701919, \n",
    "                  78.048457, \n",
    "                  78.0413095, \n",
    "                  77.886958, \n",
    "                  77.825396, \n",
    "                  77.8460573, \n",
    "                  78.0537813, \n",
    "                  78.090614, \n",
    "                  78.0355272, \n",
    "                  77.9311923, \n",
    "                  77.9663, \n",
    "                  77.952092, \n",
    "                  78.0747887, \n",
    "                  77.9555512, \n",
    "                  77.9997158] \n",
    "  \n",
    "# Generate map from the mean of latitude and longitude\n",
    "gmap = gmplot.GoogleMapPlotter(mean(latitude_list), mean(longitude_list), 13)\n",
    "  \n",
    "# Heatmap plot points on the Google map \n",
    "gmap.heatmap(latitude_list, longitude_list) \n",
    "\n",
    "# Access Google Maps with API key\n",
    "gmap.apikey = api_key\n",
    "\n",
    "# Save map to folder \n",
    "gmap.draw(\"..\\maps\\map3.html\") "
   ]
  },
  {
   "cell_type": "markdown",
   "metadata": {},
   "source": [
    "### Plot Geotagged Tweets - DSI-LA "
   ]
  },
  {
   "cell_type": "code",
   "execution_count": 4,
   "metadata": {
    "scrolled": false
   },
   "outputs": [
    {
     "data": {
      "text/html": [
       "<div>\n",
       "<style scoped>\n",
       "    .dataframe tbody tr th:only-of-type {\n",
       "        vertical-align: middle;\n",
       "    }\n",
       "\n",
       "    .dataframe tbody tr th {\n",
       "        vertical-align: top;\n",
       "    }\n",
       "\n",
       "    .dataframe thead th {\n",
       "        text-align: right;\n",
       "    }\n",
       "</style>\n",
       "<table border=\"1\" class=\"dataframe\">\n",
       "  <thead>\n",
       "    <tr style=\"text-align: right;\">\n",
       "      <th></th>\n",
       "      <th>Unnamed: 0</th>\n",
       "      <th>tweet</th>\n",
       "      <th>label</th>\n",
       "      <th>lat</th>\n",
       "      <th>long</th>\n",
       "    </tr>\n",
       "  </thead>\n",
       "  <tbody>\n",
       "    <tr>\n",
       "      <th>0</th>\n",
       "      <td>0</td>\n",
       "      <td>@jackshope They are airlifting our crew into C...</td>\n",
       "      <td>off-topic</td>\n",
       "      <td>34.082321</td>\n",
       "      <td>-117.335853</td>\n",
       "    </tr>\n",
       "    <tr>\n",
       "      <th>1</th>\n",
       "      <td>1</td>\n",
       "      <td>#Skywire was boring, what was exciting was whe...</td>\n",
       "      <td>off-topic</td>\n",
       "      <td>34.122635</td>\n",
       "      <td>-117.243592</td>\n",
       "    </tr>\n",
       "    <tr>\n",
       "      <th>2</th>\n",
       "      <td>2</td>\n",
       "      <td>@WBrettWilson @TarzanDan whenever works for yo...</td>\n",
       "      <td>off-topic</td>\n",
       "      <td>34.092197</td>\n",
       "      <td>-117.266696</td>\n",
       "    </tr>\n",
       "    <tr>\n",
       "      <th>3</th>\n",
       "      <td>3</td>\n",
       "      <td>@joshclassenCTV you are dead wrong sir there i...</td>\n",
       "      <td>on-topic</td>\n",
       "      <td>34.049241</td>\n",
       "      <td>-117.378255</td>\n",
       "    </tr>\n",
       "    <tr>\n",
       "      <th>4</th>\n",
       "      <td>4</td>\n",
       "      <td>I'm at Canada Olympic Park (Calgary, AB) http:...</td>\n",
       "      <td>off-topic</td>\n",
       "      <td>33.704540</td>\n",
       "      <td>-117.192101</td>\n",
       "    </tr>\n",
       "  </tbody>\n",
       "</table>\n",
       "</div>"
      ],
      "text/plain": [
       "   Unnamed: 0                                              tweet      label  \\\n",
       "0           0  @jackshope They are airlifting our crew into C...  off-topic   \n",
       "1           1  #Skywire was boring, what was exciting was whe...  off-topic   \n",
       "2           2  @WBrettWilson @TarzanDan whenever works for yo...  off-topic   \n",
       "3           3  @joshclassenCTV you are dead wrong sir there i...   on-topic   \n",
       "4           4  I'm at Canada Olympic Park (Calgary, AB) http:...  off-topic   \n",
       "\n",
       "         lat        long  \n",
       "0  34.082321 -117.335853  \n",
       "1  34.122635 -117.243592  \n",
       "2  34.092197 -117.266696  \n",
       "3  34.049241 -117.378255  \n",
       "4  33.704540 -117.192101  "
      ]
     },
     "execution_count": 4,
     "metadata": {},
     "output_type": "execute_result"
    }
   ],
   "source": [
    "# Pull geotagged tweets from DSI-LA about floods near LA\n",
    "geo_tweets_df = pd.read_csv(\"../datasets/map_data_DSI-LA.csv\")\n",
    "geo_tweets_df.head()"
   ]
  },
  {
   "cell_type": "code",
   "execution_count": 5,
   "metadata": {
    "scrolled": false
   },
   "outputs": [
    {
     "data": {
      "text/plain": [
       "off-topic    700\n",
       "on-topic     300\n",
       "Name: label, dtype: int64"
      ]
     },
     "execution_count": 5,
     "metadata": {},
     "output_type": "execute_result"
    }
   ],
   "source": [
    "geo_tweets_df['label'].value_counts()"
   ]
  },
  {
   "cell_type": "code",
   "execution_count": 6,
   "metadata": {},
   "outputs": [],
   "source": [
    "# Rename columns\n",
    "geo_tweets_df.columns = [\"Unnamed: 0\", \"tweet\", \"label\", \"latitude\", \"longitude\"]"
   ]
  },
  {
   "cell_type": "code",
   "execution_count": 7,
   "metadata": {},
   "outputs": [],
   "source": [
    "# Only use tweets that are on-topic\n",
    "geo_tweets_df = geo_tweets_df[geo_tweets_df[\"label\"] == 'on-topic']"
   ]
  },
  {
   "cell_type": "code",
   "execution_count": 8,
   "metadata": {
    "scrolled": false
   },
   "outputs": [
    {
     "data": {
      "text/plain": [
       "on-topic    300\n",
       "Name: label, dtype: int64"
      ]
     },
     "execution_count": 8,
     "metadata": {},
     "output_type": "execute_result"
    }
   ],
   "source": [
    "geo_tweets_df['label'].value_counts()"
   ]
  },
  {
   "cell_type": "code",
   "execution_count": 9,
   "metadata": {},
   "outputs": [],
   "source": [
    "# Create heatmap with latitude and longitude list\n",
    "\n",
    "latitude_list = geo_tweets_df[\"latitude\"]\n",
    "  \n",
    "longitude_list = geo_tweets_df[\"longitude\"]\n",
    "  \n",
    "# Generate map from the mean of latitude and longitude, and then size of the map\n",
    "gmap = gmplot.GoogleMapPlotter(mean(latitude_list), mean(longitude_list), 10)\n",
    "  \n",
    "# Heatmap plot points on the Google map \n",
    "gmap.heatmap(latitude_list, longitude_list) \n",
    "\n",
    "# Access Google Maps with API key\n",
    "gmap.apikey = api_key\n",
    "\n",
    "# Save map to folder \n",
    "gmap.draw(\"..\\maps\\map1.html\") "
   ]
  },
  {
   "cell_type": "markdown",
   "metadata": {},
   "source": [
    "### Plot Geotagged Tweets - Cape Cod Tornado"
   ]
  },
  {
   "cell_type": "code",
   "execution_count": 10,
   "metadata": {
    "scrolled": true
   },
   "outputs": [
    {
     "data": {
      "text/html": [
       "<div>\n",
       "<style scoped>\n",
       "    .dataframe tbody tr th:only-of-type {\n",
       "        vertical-align: middle;\n",
       "    }\n",
       "\n",
       "    .dataframe tbody tr th {\n",
       "        vertical-align: top;\n",
       "    }\n",
       "\n",
       "    .dataframe thead th {\n",
       "        text-align: right;\n",
       "    }\n",
       "</style>\n",
       "<table border=\"1\" class=\"dataframe\">\n",
       "  <thead>\n",
       "    <tr style=\"text-align: right;\">\n",
       "      <th></th>\n",
       "      <th>screen_name</th>\n",
       "      <th>id_str</th>\n",
       "      <th>created_at</th>\n",
       "      <th>coordinates</th>\n",
       "      <th>place</th>\n",
       "      <th>text</th>\n",
       "      <th>geo_location</th>\n",
       "      <th>pred</th>\n",
       "      <th>geo_location_dict</th>\n",
       "      <th>latitude</th>\n",
       "      <th>longitude</th>\n",
       "    </tr>\n",
       "  </thead>\n",
       "  <tbody>\n",
       "    <tr>\n",
       "      <th>0</th>\n",
       "      <td>whitneyheavey</td>\n",
       "      <td>1154107199699877889</td>\n",
       "      <td>2019-07-24 19:12:53</td>\n",
       "      <td>{'type': 'Point', 'coordinates': [-69.96027778...</td>\n",
       "      <td>Place(_api=&lt;tweepy.api.API object at 0x10f0244...</td>\n",
       "      <td>It’s been a little crazy here with clean up an...</td>\n",
       "      <td>{'type': 'Point', 'coordinates': [41.68194444,...</td>\n",
       "      <td>tornado</td>\n",
       "      <td>{'type': 'Point', 'coordinates': [41.68194444,...</td>\n",
       "      <td>41.681944</td>\n",
       "      <td>-69.960278</td>\n",
       "    </tr>\n",
       "    <tr>\n",
       "      <th>1</th>\n",
       "      <td>JamesRojasWBZ</td>\n",
       "      <td>1154072558796328960</td>\n",
       "      <td>2019-07-24 16:55:14</td>\n",
       "      <td>{'type': 'Point', 'coordinates': [-70.0764, 41...</td>\n",
       "      <td>Place(_api=&lt;tweepy.api.API object at 0x10f0244...</td>\n",
       "      <td>A tornado touched down in Cape Cod Tuesday and...</td>\n",
       "      <td>{'type': 'Point', 'coordinates': [41.6861, -70...</td>\n",
       "      <td>tornado</td>\n",
       "      <td>{'type': 'Point', 'coordinates': [41.6861, -70...</td>\n",
       "      <td>41.686100</td>\n",
       "      <td>-70.076400</td>\n",
       "    </tr>\n",
       "    <tr>\n",
       "      <th>2</th>\n",
       "      <td>iembot_rah</td>\n",
       "      <td>1154120004993990658</td>\n",
       "      <td>2019-07-24 20:03:46</td>\n",
       "      <td>{'type': 'Point', 'coordinates': [-78.74, 35.59]}</td>\n",
       "      <td>Place(_api=&lt;tweepy.api.API object at 0x10f0244...</td>\n",
       "      <td>At 2:34 PM EDT, 3 E Fuquay-Varina [Wake Co, NC...</td>\n",
       "      <td>{'type': 'Point', 'coordinates': [35.59, -78.74]}</td>\n",
       "      <td>tornado</td>\n",
       "      <td>{'type': 'Point', 'coordinates': [35.59, -78.74]}</td>\n",
       "      <td>35.590000</td>\n",
       "      <td>-78.740000</td>\n",
       "    </tr>\n",
       "    <tr>\n",
       "      <th>3</th>\n",
       "      <td>carriagehousein</td>\n",
       "      <td>1154119338477215744</td>\n",
       "      <td>2019-07-24 20:01:07</td>\n",
       "      <td>{'type': 'Point', 'coordinates': [-69.96027778...</td>\n",
       "      <td>Place(_api=&lt;tweepy.api.API object at 0x10f0244...</td>\n",
       "      <td>Goodbye Tornado, Hello Perfect Beachh weather ...</td>\n",
       "      <td>{'type': 'Point', 'coordinates': [41.68194444,...</td>\n",
       "      <td>tornado</td>\n",
       "      <td>{'type': 'Point', 'coordinates': [41.68194444,...</td>\n",
       "      <td>41.681944</td>\n",
       "      <td>-69.960278</td>\n",
       "    </tr>\n",
       "    <tr>\n",
       "      <th>4</th>\n",
       "      <td>whitneyheavey</td>\n",
       "      <td>1154107199699877889</td>\n",
       "      <td>2019-07-24 19:12:53</td>\n",
       "      <td>{'type': 'Point', 'coordinates': [-69.96027778...</td>\n",
       "      <td>Place(_api=&lt;tweepy.api.API object at 0x10f0244...</td>\n",
       "      <td>It’s been a little crazy here with clean up an...</td>\n",
       "      <td>{'type': 'Point', 'coordinates': [41.68194444,...</td>\n",
       "      <td>tornado</td>\n",
       "      <td>{'type': 'Point', 'coordinates': [41.68194444,...</td>\n",
       "      <td>41.681944</td>\n",
       "      <td>-69.960278</td>\n",
       "    </tr>\n",
       "  </tbody>\n",
       "</table>\n",
       "</div>"
      ],
      "text/plain": [
       "       screen_name               id_str           created_at  \\\n",
       "0    whitneyheavey  1154107199699877889  2019-07-24 19:12:53   \n",
       "1    JamesRojasWBZ  1154072558796328960  2019-07-24 16:55:14   \n",
       "2       iembot_rah  1154120004993990658  2019-07-24 20:03:46   \n",
       "3  carriagehousein  1154119338477215744  2019-07-24 20:01:07   \n",
       "4    whitneyheavey  1154107199699877889  2019-07-24 19:12:53   \n",
       "\n",
       "                                         coordinates  \\\n",
       "0  {'type': 'Point', 'coordinates': [-69.96027778...   \n",
       "1  {'type': 'Point', 'coordinates': [-70.0764, 41...   \n",
       "2  {'type': 'Point', 'coordinates': [-78.74, 35.59]}   \n",
       "3  {'type': 'Point', 'coordinates': [-69.96027778...   \n",
       "4  {'type': 'Point', 'coordinates': [-69.96027778...   \n",
       "\n",
       "                                               place  \\\n",
       "0  Place(_api=<tweepy.api.API object at 0x10f0244...   \n",
       "1  Place(_api=<tweepy.api.API object at 0x10f0244...   \n",
       "2  Place(_api=<tweepy.api.API object at 0x10f0244...   \n",
       "3  Place(_api=<tweepy.api.API object at 0x10f0244...   \n",
       "4  Place(_api=<tweepy.api.API object at 0x10f0244...   \n",
       "\n",
       "                                                text  \\\n",
       "0  It’s been a little crazy here with clean up an...   \n",
       "1  A tornado touched down in Cape Cod Tuesday and...   \n",
       "2  At 2:34 PM EDT, 3 E Fuquay-Varina [Wake Co, NC...   \n",
       "3  Goodbye Tornado, Hello Perfect Beachh weather ...   \n",
       "4  It’s been a little crazy here with clean up an...   \n",
       "\n",
       "                                        geo_location     pred  \\\n",
       "0  {'type': 'Point', 'coordinates': [41.68194444,...  tornado   \n",
       "1  {'type': 'Point', 'coordinates': [41.6861, -70...  tornado   \n",
       "2  {'type': 'Point', 'coordinates': [35.59, -78.74]}  tornado   \n",
       "3  {'type': 'Point', 'coordinates': [41.68194444,...  tornado   \n",
       "4  {'type': 'Point', 'coordinates': [41.68194444,...  tornado   \n",
       "\n",
       "                                   geo_location_dict   latitude  longitude  \n",
       "0  {'type': 'Point', 'coordinates': [41.68194444,...  41.681944 -69.960278  \n",
       "1  {'type': 'Point', 'coordinates': [41.6861, -70...  41.686100 -70.076400  \n",
       "2  {'type': 'Point', 'coordinates': [35.59, -78.74]}  35.590000 -78.740000  \n",
       "3  {'type': 'Point', 'coordinates': [41.68194444,...  41.681944 -69.960278  \n",
       "4  {'type': 'Point', 'coordinates': [41.68194444,...  41.681944 -69.960278  "
      ]
     },
     "execution_count": 10,
     "metadata": {},
     "output_type": "execute_result"
    }
   ],
   "source": [
    "# Pull geotagged tweets\n",
    "geo_tweets_df = pd.read_csv(\"../datasets/geo_tweets.csv\")\n",
    "geo_tweets_df.head()"
   ]
  },
  {
   "cell_type": "code",
   "execution_count": 13,
   "metadata": {},
   "outputs": [
    {
     "data": {
      "text/plain": [
       "screen_name           object\n",
       "id_str                 int64\n",
       "created_at            object\n",
       "coordinates           object\n",
       "place                 object\n",
       "text                  object\n",
       "geo_location          object\n",
       "pred                  object\n",
       "geo_location_dict     object\n",
       "latitude             float64\n",
       "longitude            float64\n",
       "dtype: object"
      ]
     },
     "execution_count": 13,
     "metadata": {},
     "output_type": "execute_result"
    }
   ],
   "source": [
    "geo_tweets_df.dtypes"
   ]
  },
  {
   "cell_type": "code",
   "execution_count": 11,
   "metadata": {},
   "outputs": [],
   "source": [
    "# Create heatmap with latitude and longitude list\n",
    "\n",
    "latitude_list = geo_tweets_df[\"latitude\"]\n",
    "  \n",
    "longitude_list = geo_tweets_df[\"longitude\"]\n",
    "  \n",
    "# Generate map from the mean of latitude and longitude, and then size of the map\n",
    "gmap = gmplot.GoogleMapPlotter(mean(latitude_list), mean(longitude_list), 6)\n",
    "  \n",
    "# Heatmap plot points on the Google map \n",
    "gmap.heatmap(latitude_list, longitude_list) \n",
    "\n",
    "# Access Google Maps with API key\n",
    "gmap.apikey = api_key\n",
    "\n",
    "# Save map to folder \n",
    "gmap.draw(\"..\\maps\\map2.html\") "
   ]
  },
  {
   "cell_type": "code",
   "execution_count": 12,
   "metadata": {},
   "outputs": [],
   "source": [
    "# Create heatmap with latitude and longitude list\n",
    "# Dropped the second tweet since it was located in North Carolina\n",
    "\n",
    "latitude_list = geo_tweets_df.drop([2])[\"latitude\"]\n",
    "  \n",
    "longitude_list = geo_tweets_df.drop([2])[\"longitude\"]\n",
    "  \n",
    "# Generate map from the mean of latitude and longitude, and then size of the map\n",
    "gmap = gmplot.GoogleMapPlotter(mean(latitude_list), mean(longitude_list), 12)\n",
    "  \n",
    "# Heatmap plot points on the Google map \n",
    "gmap.heatmap(latitude_list, longitude_list) \n",
    "\n",
    "# Access Google Maps with API key\n",
    "gmap.apikey = api_key\n",
    "\n",
    "# Save map to folder \n",
    "gmap.draw(\"..\\maps\\map3.html\") "
   ]
  }
 ],
 "metadata": {
  "kernelspec": {
   "display_name": "Python [conda env:dsi] *",
   "language": "python",
   "name": "conda-env-dsi-py"
  },
  "language_info": {
   "codemirror_mode": {
    "name": "ipython",
    "version": 3
   },
   "file_extension": ".py",
   "mimetype": "text/x-python",
   "name": "python",
   "nbconvert_exporter": "python",
   "pygments_lexer": "ipython3",
   "version": "3.7.3"
  }
 },
 "nbformat": 4,
 "nbformat_minor": 2
}
