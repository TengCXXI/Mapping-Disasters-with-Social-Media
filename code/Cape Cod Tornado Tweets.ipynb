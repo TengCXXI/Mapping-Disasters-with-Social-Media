{
 "cells": [
  {
   "cell_type": "code",
   "execution_count": null,
   "metadata": {},
   "outputs": [],
   "source": [
    "# ref: https://www.earthdatascience.org/courses/earth-analytics-python/using-apis-natural-language-processing-twitter/get-and-use-twitter-data-in-python/\n",
    "# already did this in a previous notebook\n",
    "\n",
    "# !pip install tweepy"
   ]
  },
  {
   "cell_type": "code",
   "execution_count": 1,
   "metadata": {},
   "outputs": [],
   "source": [
    "import tweepy\n",
    "import pandas as pd\n",
    "import json"
   ]
  },
  {
   "cell_type": "code",
   "execution_count": 2,
   "metadata": {},
   "outputs": [],
   "source": [
    "# ran using personal Twitter developer API keys, then removed from this notebook\n",
    "\n",
    "consumer_key= 'CONSUMER KEY'\n",
    "consumer_secret= 'CONSUMER SECRET'\n",
    "access_token= 'ACCESS TOKEN'\n",
    "access_token_secret= 'ACCESS TOKEN SECRET'"
   ]
  },
  {
   "cell_type": "code",
   "execution_count": 3,
   "metadata": {},
   "outputs": [],
   "source": [
    "auth = tweepy.OAuthHandler(consumer_key, consumer_secret)\n",
    "auth.set_access_token(access_token, access_token_secret)\n",
    "api = tweepy.API(auth, wait_on_rate_limit=True)"
   ]
  },
  {
   "cell_type": "markdown",
   "metadata": {},
   "source": [
    "### Request for tweets including \"cape cod tornado\""
   ]
  },
  {
   "cell_type": "code",
   "execution_count": 96,
   "metadata": {},
   "outputs": [],
   "source": [
    "# would need to update since_id with the last id from the previous pull for future requests on the same search words\n",
    "# running a search for cape code tornado specifically. want to compare it to a general search for tornado\n",
    "\n",
    "search_words = \"'cape cod tornado' -filter:retweets\"\n",
    "date_since = \"2019-07-18\"\n",
    "# since_id = \"\""
   ]
  },
  {
   "cell_type": "code",
   "execution_count": 97,
   "metadata": {},
   "outputs": [
    {
     "data": {
      "text/plain": [
       "<tweepy.cursor.ItemIterator at 0x110e41320>"
      ]
     },
     "execution_count": 97,
     "metadata": {},
     "output_type": "execute_result"
    }
   ],
   "source": [
    "tweets = tweepy.Cursor(api.search,\n",
    "                        q=search_words,\n",
    "                        lang=\"en\",\n",
    "                        since=date_since,\n",
    "#                         since_id = since_id\n",
    "                        ).items(500)\n",
    "tweets"
   ]
  },
  {
   "cell_type": "code",
   "execution_count": 98,
   "metadata": {},
   "outputs": [],
   "source": [
    "cape_tornado_tweets = [[tweet.user.screen_name, \n",
    "                     tweet.id_str, \n",
    "                     tweet.created_at, \n",
    "                     tweet.coordinates, \n",
    "                     tweet.place,\n",
    "                     tweet.text, \n",
    "                     tweet.geo] for tweet in tweets]"
   ]
  },
  {
   "cell_type": "code",
   "execution_count": 99,
   "metadata": {},
   "outputs": [],
   "source": [
    "cape_tornado_tweets_df = pd.DataFrame(tornado_tweets, columns = ['screen_name', \n",
    "                                                            'id_str', \n",
    "                                                            'created_at',\n",
    "                                                            'coordinates',\n",
    "                                                            'place', \n",
    "                                                            'text',\n",
    "                                                            'geo_location'\n",
    "                                                           ])"
   ]
  },
  {
   "cell_type": "code",
   "execution_count": 100,
   "metadata": {},
   "outputs": [
    {
     "data": {
      "text/html": [
       "<div>\n",
       "<style scoped>\n",
       "    .dataframe tbody tr th:only-of-type {\n",
       "        vertical-align: middle;\n",
       "    }\n",
       "\n",
       "    .dataframe tbody tr th {\n",
       "        vertical-align: top;\n",
       "    }\n",
       "\n",
       "    .dataframe thead th {\n",
       "        text-align: right;\n",
       "    }\n",
       "</style>\n",
       "<table border=\"1\" class=\"dataframe\">\n",
       "  <thead>\n",
       "    <tr style=\"text-align: right;\">\n",
       "      <th></th>\n",
       "      <th>screen_name</th>\n",
       "      <th>id_str</th>\n",
       "      <th>created_at</th>\n",
       "      <th>coordinates</th>\n",
       "      <th>place</th>\n",
       "      <th>text</th>\n",
       "      <th>geo_location</th>\n",
       "    </tr>\n",
       "  </thead>\n",
       "  <tbody>\n",
       "    <tr>\n",
       "      <th>0</th>\n",
       "      <td>BostonGlobe</td>\n",
       "      <td>1154116553283121152</td>\n",
       "      <td>2019-07-24 19:50:03</td>\n",
       "      <td>None</td>\n",
       "      <td>None</td>\n",
       "      <td>Governor Charlie Baker said Wednesday that sta...</td>\n",
       "      <td>None</td>\n",
       "    </tr>\n",
       "    <tr>\n",
       "      <th>1</th>\n",
       "      <td>drjustinimel</td>\n",
       "      <td>1154116460026793984</td>\n",
       "      <td>2019-07-24 19:49:41</td>\n",
       "      <td>None</td>\n",
       "      <td>None</td>\n",
       "      <td>Rare tornado strikes Cape Cod, Massachusetts h...</td>\n",
       "      <td>None</td>\n",
       "    </tr>\n",
       "    <tr>\n",
       "      <th>2</th>\n",
       "      <td>boston25</td>\n",
       "      <td>1154116303503970305</td>\n",
       "      <td>2019-07-24 19:49:03</td>\n",
       "      <td>None</td>\n",
       "      <td>None</td>\n",
       "      <td>Gov. Baker to seek disaster declaration for Ca...</td>\n",
       "      <td>None</td>\n",
       "    </tr>\n",
       "    <tr>\n",
       "      <th>3</th>\n",
       "      <td>PaPaShArMFbI</td>\n",
       "      <td>1154115592812548096</td>\n",
       "      <td>2019-07-24 19:46:14</td>\n",
       "      <td>None</td>\n",
       "      <td>None</td>\n",
       "      <td>High winds rip roof off hotel as rare tornado ...</td>\n",
       "      <td>None</td>\n",
       "    </tr>\n",
       "    <tr>\n",
       "      <th>4</th>\n",
       "      <td>Fa11outS</td>\n",
       "      <td>1154112647006183424</td>\n",
       "      <td>2019-07-24 19:34:32</td>\n",
       "      <td>None</td>\n",
       "      <td>None</td>\n",
       "      <td>Tornado hits Cape Cod leaving more than 33,000...</td>\n",
       "      <td>None</td>\n",
       "    </tr>\n",
       "  </tbody>\n",
       "</table>\n",
       "</div>"
      ],
      "text/plain": [
       "    screen_name               id_str          created_at coordinates place  \\\n",
       "0   BostonGlobe  1154116553283121152 2019-07-24 19:50:03        None  None   \n",
       "1  drjustinimel  1154116460026793984 2019-07-24 19:49:41        None  None   \n",
       "2      boston25  1154116303503970305 2019-07-24 19:49:03        None  None   \n",
       "3  PaPaShArMFbI  1154115592812548096 2019-07-24 19:46:14        None  None   \n",
       "4      Fa11outS  1154112647006183424 2019-07-24 19:34:32        None  None   \n",
       "\n",
       "                                                text geo_location  \n",
       "0  Governor Charlie Baker said Wednesday that sta...         None  \n",
       "1  Rare tornado strikes Cape Cod, Massachusetts h...         None  \n",
       "2  Gov. Baker to seek disaster declaration for Ca...         None  \n",
       "3  High winds rip roof off hotel as rare tornado ...         None  \n",
       "4  Tornado hits Cape Cod leaving more than 33,000...         None  "
      ]
     },
     "execution_count": 100,
     "metadata": {},
     "output_type": "execute_result"
    }
   ],
   "source": [
    "cape_tornado_tweets_df.head()"
   ]
  },
  {
   "cell_type": "code",
   "execution_count": 101,
   "metadata": {
    "scrolled": true
   },
   "outputs": [
    {
     "data": {
      "text/html": [
       "<div>\n",
       "<style scoped>\n",
       "    .dataframe tbody tr th:only-of-type {\n",
       "        vertical-align: middle;\n",
       "    }\n",
       "\n",
       "    .dataframe tbody tr th {\n",
       "        vertical-align: top;\n",
       "    }\n",
       "\n",
       "    .dataframe thead th {\n",
       "        text-align: right;\n",
       "    }\n",
       "</style>\n",
       "<table border=\"1\" class=\"dataframe\">\n",
       "  <thead>\n",
       "    <tr style=\"text-align: right;\">\n",
       "      <th></th>\n",
       "      <th>screen_name</th>\n",
       "      <th>id_str</th>\n",
       "      <th>created_at</th>\n",
       "      <th>coordinates</th>\n",
       "      <th>place</th>\n",
       "      <th>text</th>\n",
       "      <th>geo_location</th>\n",
       "    </tr>\n",
       "  </thead>\n",
       "  <tbody>\n",
       "    <tr>\n",
       "      <th>495</th>\n",
       "      <td>Geostrategic777</td>\n",
       "      <td>1153896275533713408</td>\n",
       "      <td>2019-07-24 05:14:45</td>\n",
       "      <td>None</td>\n",
       "      <td>None</td>\n",
       "      <td>07-22-19 Tornado Warning On Cape Cod - Vivid L...</td>\n",
       "      <td>None</td>\n",
       "    </tr>\n",
       "    <tr>\n",
       "      <th>496</th>\n",
       "      <td>thedailybeast</td>\n",
       "      <td>1153896252557410304</td>\n",
       "      <td>2019-07-24 05:14:39</td>\n",
       "      <td>None</td>\n",
       "      <td>None</td>\n",
       "      <td>Tens of thousands of people are without power ...</td>\n",
       "      <td>None</td>\n",
       "    </tr>\n",
       "    <tr>\n",
       "      <th>497</th>\n",
       "      <td>KaneKrave</td>\n",
       "      <td>1153895711190241280</td>\n",
       "      <td>2019-07-24 05:12:30</td>\n",
       "      <td>None</td>\n",
       "      <td>None</td>\n",
       "      <td>All I’m saying is maybe #GlobalWarming is just...</td>\n",
       "      <td>None</td>\n",
       "    </tr>\n",
       "    <tr>\n",
       "      <th>498</th>\n",
       "      <td>Geostrategic777</td>\n",
       "      <td>1153895525566963713</td>\n",
       "      <td>2019-07-24 05:11:46</td>\n",
       "      <td>None</td>\n",
       "      <td>None</td>\n",
       "      <td>07-23-19 Yarmouth, MA - Unconfirmed - Tornado ...</td>\n",
       "      <td>None</td>\n",
       "    </tr>\n",
       "    <tr>\n",
       "      <th>499</th>\n",
       "      <td>MinnieMazzerati</td>\n",
       "      <td>1153895426812256257</td>\n",
       "      <td>2019-07-24 05:11:22</td>\n",
       "      <td>None</td>\n",
       "      <td>None</td>\n",
       "      <td>Well, 🇨🇦 is still open😗\\n\\nFrom Discover on Go...</td>\n",
       "      <td>None</td>\n",
       "    </tr>\n",
       "  </tbody>\n",
       "</table>\n",
       "</div>"
      ],
      "text/plain": [
       "         screen_name               id_str          created_at coordinates  \\\n",
       "495  Geostrategic777  1153896275533713408 2019-07-24 05:14:45        None   \n",
       "496    thedailybeast  1153896252557410304 2019-07-24 05:14:39        None   \n",
       "497        KaneKrave  1153895711190241280 2019-07-24 05:12:30        None   \n",
       "498  Geostrategic777  1153895525566963713 2019-07-24 05:11:46        None   \n",
       "499  MinnieMazzerati  1153895426812256257 2019-07-24 05:11:22        None   \n",
       "\n",
       "    place                                               text geo_location  \n",
       "495  None  07-22-19 Tornado Warning On Cape Cod - Vivid L...         None  \n",
       "496  None  Tens of thousands of people are without power ...         None  \n",
       "497  None  All I’m saying is maybe #GlobalWarming is just...         None  \n",
       "498  None  07-23-19 Yarmouth, MA - Unconfirmed - Tornado ...         None  \n",
       "499  None  Well, 🇨🇦 is still open😗\\n\\nFrom Discover on Go...         None  "
      ]
     },
     "execution_count": 101,
     "metadata": {},
     "output_type": "execute_result"
    }
   ],
   "source": [
    "cape_tornado_tweets_df.tail()"
   ]
  },
  {
   "cell_type": "code",
   "execution_count": 102,
   "metadata": {},
   "outputs": [],
   "source": [
    "cape_tornado_tweets_df.to_csv('./datasets/cape_cod_tornado_13.csv', index = False)"
   ]
  },
  {
   "cell_type": "markdown",
   "metadata": {},
   "source": [
    "#### Running a new request because original pull had only 2 observations that included geo location"
   ]
  },
  {
   "cell_type": "code",
   "execution_count": 123,
   "metadata": {},
   "outputs": [],
   "source": [
    "search_words = \"'cape cod tornado' -filter:retweets\"\n",
    "date_since = \"2019-07-18\"\n",
    "since_id = \"1154088295183204352\""
   ]
  },
  {
   "cell_type": "code",
   "execution_count": 124,
   "metadata": {},
   "outputs": [
    {
     "data": {
      "text/plain": [
       "<tweepy.cursor.ItemIterator at 0x11143b978>"
      ]
     },
     "execution_count": 124,
     "metadata": {},
     "output_type": "execute_result"
    }
   ],
   "source": [
    "tweets = tweepy.Cursor(api.search,\n",
    "                        q=search_words,\n",
    "                        lang=\"en\",\n",
    "                        since=date_since,\n",
    "                        since_id = since_id\n",
    "                        ).items(500)\n",
    "tweets"
   ]
  },
  {
   "cell_type": "code",
   "execution_count": 125,
   "metadata": {},
   "outputs": [],
   "source": [
    "cape_tornado_tweets = [[tweet.user.screen_name, \n",
    "                     tweet.id_str, \n",
    "                     tweet.created_at, \n",
    "                     tweet.coordinates, \n",
    "                     tweet.place,\n",
    "                     tweet.text, \n",
    "                     tweet.geo] for tweet in tweets]"
   ]
  },
  {
   "cell_type": "code",
   "execution_count": 126,
   "metadata": {},
   "outputs": [],
   "source": [
    "cape_tornado_tweets_df = pd.DataFrame(tornado_tweets, columns = ['screen_name', \n",
    "                                                            'id_str', \n",
    "                                                            'created_at',\n",
    "                                                            'coordinates',\n",
    "                                                            'place', \n",
    "                                                            'text',\n",
    "                                                            'geo_location'\n",
    "                                                           ])"
   ]
  },
  {
   "cell_type": "code",
   "execution_count": 127,
   "metadata": {},
   "outputs": [
    {
     "data": {
      "text/html": [
       "<div>\n",
       "<style scoped>\n",
       "    .dataframe tbody tr th:only-of-type {\n",
       "        vertical-align: middle;\n",
       "    }\n",
       "\n",
       "    .dataframe tbody tr th {\n",
       "        vertical-align: top;\n",
       "    }\n",
       "\n",
       "    .dataframe thead th {\n",
       "        text-align: right;\n",
       "    }\n",
       "</style>\n",
       "<table border=\"1\" class=\"dataframe\">\n",
       "  <thead>\n",
       "    <tr style=\"text-align: right;\">\n",
       "      <th></th>\n",
       "      <th>screen_name</th>\n",
       "      <th>id_str</th>\n",
       "      <th>created_at</th>\n",
       "      <th>coordinates</th>\n",
       "      <th>place</th>\n",
       "      <th>text</th>\n",
       "      <th>geo_location</th>\n",
       "    </tr>\n",
       "  </thead>\n",
       "  <tbody>\n",
       "    <tr>\n",
       "      <th>320</th>\n",
       "      <td>Whiteside_CHC</td>\n",
       "      <td>1154089138444017664</td>\n",
       "      <td>2019-07-24 18:01:07</td>\n",
       "      <td>None</td>\n",
       "      <td>None</td>\n",
       "      <td>Is your mobile phone buzzing with weather warn...</td>\n",
       "      <td>None</td>\n",
       "    </tr>\n",
       "    <tr>\n",
       "      <th>321</th>\n",
       "      <td>PatrickRockey</td>\n",
       "      <td>1154088887054217218</td>\n",
       "      <td>2019-07-24 18:00:07</td>\n",
       "      <td>None</td>\n",
       "      <td>None</td>\n",
       "      <td>TODAY'S storm threat. Warnings here --&amp;gt; htt...</td>\n",
       "      <td>None</td>\n",
       "    </tr>\n",
       "    <tr>\n",
       "      <th>322</th>\n",
       "      <td>ekendall2</td>\n",
       "      <td>1154088704404795394</td>\n",
       "      <td>2019-07-24 17:59:23</td>\n",
       "      <td>None</td>\n",
       "      <td>None</td>\n",
       "      <td>did this fucking tornado really have to hit th...</td>\n",
       "      <td>None</td>\n",
       "    </tr>\n",
       "    <tr>\n",
       "      <th>323</th>\n",
       "      <td>SeketricBarnes</td>\n",
       "      <td>1154088364485816320</td>\n",
       "      <td>2019-07-24 17:58:02</td>\n",
       "      <td>None</td>\n",
       "      <td>None</td>\n",
       "      <td>I'd rather deal with a real tornado \\n\\nSeriously</td>\n",
       "      <td>None</td>\n",
       "    </tr>\n",
       "    <tr>\n",
       "      <th>324</th>\n",
       "      <td>titty_tornado</td>\n",
       "      <td>1154088295183204352</td>\n",
       "      <td>2019-07-24 17:57:46</td>\n",
       "      <td>None</td>\n",
       "      <td>None</td>\n",
       "      <td>Have you ever had a nemesis, Or someone you ju...</td>\n",
       "      <td>None</td>\n",
       "    </tr>\n",
       "  </tbody>\n",
       "</table>\n",
       "</div>"
      ],
      "text/plain": [
       "        screen_name               id_str          created_at coordinates  \\\n",
       "320   Whiteside_CHC  1154089138444017664 2019-07-24 18:01:07        None   \n",
       "321   PatrickRockey  1154088887054217218 2019-07-24 18:00:07        None   \n",
       "322       ekendall2  1154088704404795394 2019-07-24 17:59:23        None   \n",
       "323  SeketricBarnes  1154088364485816320 2019-07-24 17:58:02        None   \n",
       "324   titty_tornado  1154088295183204352 2019-07-24 17:57:46        None   \n",
       "\n",
       "    place                                               text geo_location  \n",
       "320  None  Is your mobile phone buzzing with weather warn...         None  \n",
       "321  None  TODAY'S storm threat. Warnings here --&gt; htt...         None  \n",
       "322  None  did this fucking tornado really have to hit th...         None  \n",
       "323  None  I'd rather deal with a real tornado \\n\\nSeriously         None  \n",
       "324  None  Have you ever had a nemesis, Or someone you ju...         None  "
      ]
     },
     "execution_count": 127,
     "metadata": {},
     "output_type": "execute_result"
    }
   ],
   "source": [
    "# looks like there are no more tweets after id 1154088295183204352 (total was 825 tweets)\n",
    "cape_tornado_tweets_df.tail()"
   ]
  },
  {
   "cell_type": "code",
   "execution_count": 122,
   "metadata": {},
   "outputs": [],
   "source": [
    "cape_tornado_tweets_df.to_csv('./datasets/cape_cod_tornado_14.csv', index = False)"
   ]
  },
  {
   "cell_type": "markdown",
   "metadata": {},
   "source": [
    "### Request for tweets including \"tornado\"\n",
    "\n",
    "- Originally made a request, but realized it would be a duplicate of request for \"cape cod tornado\" from above since it already includes \"tornado\". Therefore, adding last id from the previous request to see if we can get the next 500 and compare to the data from the \"cape cod tornado\" search."
   ]
  },
  {
   "cell_type": "code",
   "execution_count": 114,
   "metadata": {},
   "outputs": [],
   "source": [
    "\n",
    "search_words = \"'tornado' -filter:retweets\"\n",
    "date_since = \"2019-07-18\"\n",
    "since_id = \"1154066738084012033\""
   ]
  },
  {
   "cell_type": "code",
   "execution_count": 109,
   "metadata": {},
   "outputs": [
    {
     "data": {
      "text/plain": [
       "<tweepy.cursor.ItemIterator at 0x110ff3d68>"
      ]
     },
     "execution_count": 109,
     "metadata": {},
     "output_type": "execute_result"
    }
   ],
   "source": [
    "tweets = tweepy.Cursor(api.search,\n",
    "                        q=search_words,\n",
    "                        lang=\"en\",\n",
    "                        since=date_since,\n",
    "                        since_id = since_id\n",
    "                        ).items(500)\n",
    "tweets"
   ]
  },
  {
   "cell_type": "code",
   "execution_count": 110,
   "metadata": {},
   "outputs": [],
   "source": [
    "tornado_only_tweets = [[tweet.user.screen_name, \n",
    "                     tweet.id_str, \n",
    "                     tweet.created_at, \n",
    "                     tweet.coordinates, \n",
    "                     tweet.place,\n",
    "                     tweet.text, \n",
    "                     tweet.geo] for tweet in tweets]"
   ]
  },
  {
   "cell_type": "code",
   "execution_count": 111,
   "metadata": {},
   "outputs": [],
   "source": [
    "tornado_only_tweets_df = pd.DataFrame(tornado_tweets, columns = ['screen_name', \n",
    "                                                            'id_str', \n",
    "                                                            'created_at',\n",
    "                                                            'coordinates',\n",
    "                                                            'place', \n",
    "                                                            'text',\n",
    "                                                            'geo_location'\n",
    "                                                           ])"
   ]
  },
  {
   "cell_type": "code",
   "execution_count": 115,
   "metadata": {},
   "outputs": [
    {
     "data": {
      "text/html": [
       "<div>\n",
       "<style scoped>\n",
       "    .dataframe tbody tr th:only-of-type {\n",
       "        vertical-align: middle;\n",
       "    }\n",
       "\n",
       "    .dataframe tbody tr th {\n",
       "        vertical-align: top;\n",
       "    }\n",
       "\n",
       "    .dataframe thead th {\n",
       "        text-align: right;\n",
       "    }\n",
       "</style>\n",
       "<table border=\"1\" class=\"dataframe\">\n",
       "  <thead>\n",
       "    <tr style=\"text-align: right;\">\n",
       "      <th></th>\n",
       "      <th>screen_name</th>\n",
       "      <th>id_str</th>\n",
       "      <th>created_at</th>\n",
       "      <th>coordinates</th>\n",
       "      <th>place</th>\n",
       "      <th>text</th>\n",
       "      <th>geo_location</th>\n",
       "    </tr>\n",
       "  </thead>\n",
       "  <tbody>\n",
       "    <tr>\n",
       "      <th>320</th>\n",
       "      <td>Whiteside_CHC</td>\n",
       "      <td>1154089138444017664</td>\n",
       "      <td>2019-07-24 18:01:07</td>\n",
       "      <td>None</td>\n",
       "      <td>None</td>\n",
       "      <td>Is your mobile phone buzzing with weather warn...</td>\n",
       "      <td>None</td>\n",
       "    </tr>\n",
       "    <tr>\n",
       "      <th>321</th>\n",
       "      <td>PatrickRockey</td>\n",
       "      <td>1154088887054217218</td>\n",
       "      <td>2019-07-24 18:00:07</td>\n",
       "      <td>None</td>\n",
       "      <td>None</td>\n",
       "      <td>TODAY'S storm threat. Warnings here --&amp;gt; htt...</td>\n",
       "      <td>None</td>\n",
       "    </tr>\n",
       "    <tr>\n",
       "      <th>322</th>\n",
       "      <td>ekendall2</td>\n",
       "      <td>1154088704404795394</td>\n",
       "      <td>2019-07-24 17:59:23</td>\n",
       "      <td>None</td>\n",
       "      <td>None</td>\n",
       "      <td>did this fucking tornado really have to hit th...</td>\n",
       "      <td>None</td>\n",
       "    </tr>\n",
       "    <tr>\n",
       "      <th>323</th>\n",
       "      <td>SeketricBarnes</td>\n",
       "      <td>1154088364485816320</td>\n",
       "      <td>2019-07-24 17:58:02</td>\n",
       "      <td>None</td>\n",
       "      <td>None</td>\n",
       "      <td>I'd rather deal with a real tornado \\n\\nSeriously</td>\n",
       "      <td>None</td>\n",
       "    </tr>\n",
       "    <tr>\n",
       "      <th>324</th>\n",
       "      <td>titty_tornado</td>\n",
       "      <td>1154088295183204352</td>\n",
       "      <td>2019-07-24 17:57:46</td>\n",
       "      <td>None</td>\n",
       "      <td>None</td>\n",
       "      <td>Have you ever had a nemesis, Or someone you ju...</td>\n",
       "      <td>None</td>\n",
       "    </tr>\n",
       "  </tbody>\n",
       "</table>\n",
       "</div>"
      ],
      "text/plain": [
       "        screen_name               id_str          created_at coordinates  \\\n",
       "320   Whiteside_CHC  1154089138444017664 2019-07-24 18:01:07        None   \n",
       "321   PatrickRockey  1154088887054217218 2019-07-24 18:00:07        None   \n",
       "322       ekendall2  1154088704404795394 2019-07-24 17:59:23        None   \n",
       "323  SeketricBarnes  1154088364485816320 2019-07-24 17:58:02        None   \n",
       "324   titty_tornado  1154088295183204352 2019-07-24 17:57:46        None   \n",
       "\n",
       "    place                                               text geo_location  \n",
       "320  None  Is your mobile phone buzzing with weather warn...         None  \n",
       "321  None  TODAY'S storm threat. Warnings here --&gt; htt...         None  \n",
       "322  None  did this fucking tornado really have to hit th...         None  \n",
       "323  None  I'd rather deal with a real tornado \\n\\nSeriously         None  \n",
       "324  None  Have you ever had a nemesis, Or someone you ju...         None  "
      ]
     },
     "execution_count": 115,
     "metadata": {},
     "output_type": "execute_result"
    }
   ],
   "source": [
    "# Pulled less than 500, but will still use this to combine with the \"cape cod tornado\" dataframe\n",
    "    # and see if there are any duplicates. Also want to see how many fields for geo_location is null\n",
    "\n",
    "tornado_only_tweets_df.tail()"
   ]
  },
  {
   "cell_type": "code",
   "execution_count": 116,
   "metadata": {},
   "outputs": [],
   "source": [
    "tornado_only_tweets_df.to_csv('./datasets/tornado.csv', index = False)"
   ]
  },
  {
   "cell_type": "code",
   "execution_count": null,
   "metadata": {},
   "outputs": [],
   "source": []
  }
 ],
 "metadata": {
  "kernelspec": {
   "display_name": "Python 3",
   "language": "python",
   "name": "python3"
  },
  "language_info": {
   "codemirror_mode": {
    "name": "ipython",
    "version": 3
   },
   "file_extension": ".py",
   "mimetype": "text/x-python",
   "name": "python",
   "nbconvert_exporter": "python",
   "pygments_lexer": "ipython3",
   "version": "3.7.3"
  }
 },
 "nbformat": 4,
 "nbformat_minor": 2
}
