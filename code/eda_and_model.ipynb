{
 "cells": [
  {
   "cell_type": "markdown",
   "metadata": {},
   "source": [
    "# Exploratory Data Analysis and Model Creation"
   ]
  },
  {
   "cell_type": "markdown",
   "metadata": {},
   "source": [
    "References:\n",
    "- https://github.com/TungPhung/Twitter-Natural-Disaster-Mapping\n",
    "- https://robertmitchellv.com/blog-bar-chart-annotations-pandas-mpl.html\n",
    "- https://stackoverflow.com/questions/25351968/how-to-display-full-non-truncated-dataframe-information-in-html-when-convertin\n",
    "- https://towardsdatascience.com/hacking-scikit-learns-vectorizers-9ef26a7170af"
   ]
  },
  {
   "cell_type": "code",
   "execution_count": 1,
   "metadata": {},
   "outputs": [],
   "source": [
    "# !pip install pandas-profiling"
   ]
  },
  {
   "cell_type": "code",
   "execution_count": 40,
   "metadata": {},
   "outputs": [],
   "source": [
    "import pandas as pd\n",
    "import pandas_profiling\n",
    "import numpy as np\n",
    "from sklearn.model_selection import train_test_split, cross_val_score, GridSearchCV\n",
    "from sklearn.pipeline import Pipeline\n",
    "from nltk.tokenize import RegexpTokenizer\n",
    "from nltk.stem import WordNetLemmatizer\n",
    "import regex as re\n",
    "from sklearn import metrics\n",
    "from sklearn.metrics import confusion_matrix\n",
    "from sklearn.feature_extraction.text import CountVectorizer, TfidfVectorizer\n",
    "from sklearn.linear_model import LogisticRegression\n",
    "from sklearn.svm import SVC\n",
    "from sklearn.ensemble import RandomForestClassifier\n",
    "import json\n",
    "\n",
    "import seaborn as sns\n",
    "import matplotlib.pyplot as plt\n",
    "%matplotlib inline"
   ]
  },
  {
   "cell_type": "code",
   "execution_count": 3,
   "metadata": {},
   "outputs": [],
   "source": [
    "# Code to display all the columns and rows\n",
    "pd.set_option('display.max_columns', 999)\n",
    "pd.set_option('display.max_rows', 999)"
   ]
  },
  {
   "cell_type": "markdown",
   "metadata": {},
   "source": [
    "### EDA - Data from CrisisLex"
   ]
  },
  {
   "cell_type": "code",
   "execution_count": 4,
   "metadata": {},
   "outputs": [],
   "source": [
    "# Read data from combined disaster training file\n",
    "df = pd.read_csv(\"../datasets/train_disasters.csv\")"
   ]
  },
  {
   "cell_type": "code",
   "execution_count": 5,
   "metadata": {},
   "outputs": [
    {
     "data": {
      "text/html": [
       "<div>\n",
       "<style scoped>\n",
       "    .dataframe tbody tr th:only-of-type {\n",
       "        vertical-align: middle;\n",
       "    }\n",
       "\n",
       "    .dataframe tbody tr th {\n",
       "        vertical-align: top;\n",
       "    }\n",
       "\n",
       "    .dataframe thead th {\n",
       "        text-align: right;\n",
       "    }\n",
       "</style>\n",
       "<table border=\"1\" class=\"dataframe\">\n",
       "  <thead>\n",
       "    <tr style=\"text-align: right;\">\n",
       "      <th></th>\n",
       "      <th>tweet id</th>\n",
       "      <th>tweet</th>\n",
       "      <th>label</th>\n",
       "      <th>disaster</th>\n",
       "    </tr>\n",
       "  </thead>\n",
       "  <tbody>\n",
       "    <tr>\n",
       "      <th>0</th>\n",
       "      <td>'336908711324962817'</td>\n",
       "      <td>@HeatleyJheat44 its barley even raining where ...</td>\n",
       "      <td>on-topic</td>\n",
       "      <td>tornado</td>\n",
       "    </tr>\n",
       "    <tr>\n",
       "      <th>1</th>\n",
       "      <td>'337052158035890176'</td>\n",
       "      <td>Sorry I can't do anything right.</td>\n",
       "      <td>off-topic</td>\n",
       "      <td>tornado</td>\n",
       "    </tr>\n",
       "    <tr>\n",
       "      <th>2</th>\n",
       "      <td>'339338021751103488'</td>\n",
       "      <td>@mrwendell29: @BradSowderWX  says we have the ...</td>\n",
       "      <td>on-topic</td>\n",
       "      <td>tornado</td>\n",
       "    </tr>\n",
       "    <tr>\n",
       "      <th>3</th>\n",
       "      <td>'336339509077762051'</td>\n",
       "      <td>#honestyhour I like to wear half split running...</td>\n",
       "      <td>off-topic</td>\n",
       "      <td>tornado</td>\n",
       "    </tr>\n",
       "    <tr>\n",
       "      <th>4</th>\n",
       "      <td>'337734129972035584'</td>\n",
       "      <td>I'm too stressed to have a good summer</td>\n",
       "      <td>off-topic</td>\n",
       "      <td>tornado</td>\n",
       "    </tr>\n",
       "  </tbody>\n",
       "</table>\n",
       "</div>"
      ],
      "text/plain": [
       "               tweet id                                              tweet  \\\n",
       "0  '336908711324962817'  @HeatleyJheat44 its barley even raining where ...   \n",
       "1  '337052158035890176'                   Sorry I can't do anything right.   \n",
       "2  '339338021751103488'  @mrwendell29: @BradSowderWX  says we have the ...   \n",
       "3  '336339509077762051'  #honestyhour I like to wear half split running...   \n",
       "4  '337734129972035584'             I'm too stressed to have a good summer   \n",
       "\n",
       "       label disaster  \n",
       "0   on-topic  tornado  \n",
       "1  off-topic  tornado  \n",
       "2   on-topic  tornado  \n",
       "3  off-topic  tornado  \n",
       "4  off-topic  tornado  "
      ]
     },
     "execution_count": 5,
     "metadata": {},
     "output_type": "execute_result"
    }
   ],
   "source": [
    "df.head()"
   ]
  },
  {
   "cell_type": "code",
   "execution_count": 7,
   "metadata": {},
   "outputs": [],
   "source": [
    "# Replace disaster category in \"disaster\" column if \"label\" column row is \"off-topic\"\n",
    "for i in range(len(df[\"disaster\"])):\n",
    "    if df[\"label\"][i] == \"off-topic\":\n",
    "        df[\"disaster\"][i] = \"off-topic\"\n",
    "    else:\n",
    "        pass    "
   ]
  },
  {
   "cell_type": "code",
   "execution_count": 8,
   "metadata": {
    "scrolled": false
   },
   "outputs": [
    {
     "data": {
      "text/plain": [
       "off-topic    9782\n",
       "hurricane    6138\n",
       "tornado      4827\n",
       "flood         768\n",
       "fire          685\n",
       "Name: disaster, dtype: int64"
      ]
     },
     "execution_count": 8,
     "metadata": {},
     "output_type": "execute_result"
    }
   ],
   "source": [
    "df[\"disaster\"].value_counts()"
   ]
  },
  {
   "cell_type": "code",
   "execution_count": 9,
   "metadata": {
    "scrolled": false
   },
   "outputs": [
    {
     "data": {
      "text/plain": [
       "(22200, 4)"
      ]
     },
     "execution_count": 9,
     "metadata": {},
     "output_type": "execute_result"
    }
   ],
   "source": [
    "df.shape"
   ]
  },
  {
   "cell_type": "code",
   "execution_count": 10,
   "metadata": {},
   "outputs": [],
   "source": [
    "# Remove all non-unique tweets\n",
    "df.drop_duplicates(subset=\"tweet\", inplace=True)"
   ]
  },
  {
   "cell_type": "code",
   "execution_count": 11,
   "metadata": {
    "scrolled": false
   },
   "outputs": [
    {
     "data": {
      "text/plain": [
       "(20873, 4)"
      ]
     },
     "execution_count": 11,
     "metadata": {},
     "output_type": "execute_result"
    }
   ],
   "source": [
    "df.shape"
   ]
  },
  {
   "cell_type": "code",
   "execution_count": 98,
   "metadata": {},
   "outputs": [
    {
     "data": {
      "text/plain": [
       "['off-topic', 'fire', 'hurricane', 'flood', 'tornado']"
      ]
     },
     "execution_count": 98,
     "metadata": {},
     "output_type": "execute_result"
    }
   ],
   "source": [
    "list(set(df['disaster']))"
   ]
  },
  {
   "cell_type": "code",
   "execution_count": 122,
   "metadata": {},
   "outputs": [
    {
     "data": {
      "text/html": [
       "\n",
       "        <iframe\n",
       "            width=\"100%\"\n",
       "            height=\"800px\"\n",
       "            src=\"ipynb_tmp\\profile_9243626689.html\"\n",
       "            frameborder=\"0\"\n",
       "            allowfullscreen\n",
       "        ></iframe>\n",
       "        "
      ],
      "text/plain": [
       "<IPython.lib.display.IFrame at 0x16c25b7ed30>"
      ]
     },
     "metadata": {},
     "output_type": "display_data"
    },
    {
     "data": {
      "text/plain": []
     },
     "execution_count": 122,
     "metadata": {},
     "output_type": "execute_result"
    }
   ],
   "source": [
    "pandas_profiling.ProfileReport(df)"
   ]
  },
  {
   "cell_type": "code",
   "execution_count": 261,
   "metadata": {
    "scrolled": false
   },
   "outputs": [
    {
     "data": {
      "image/png": "[encoded data removed]",
      "text/plain": [
       "<Figure size 720x504 with 1 Axes>"
      ]
     },
     "metadata": {
      "needs_background": "light"
     },
     "output_type": "display_data"
    }
   ],
   "source": [
    "# Referred to code from \n",
    "# https://robertmitchellv.com/blog-bar-chart-annotations-pandas-mpl.html\n",
    "\n",
    "ax = df['disaster'].value_counts().plot(kind='bar', figsize=(10,7), color=\"#1DA1F2\", fontsize=13);\n",
    "\n",
    "ax.set_title(\"Tweets per Disaster Category\", fontsize=30)\n",
    "ax.set_ylabel(\"Number of Tweets\", fontsize=25)\n",
    "ax.set_xticklabels(['off-topic','hurricane', 'tornado', 'flood', 'fire'],rotation=0, fontsize=25);\n",
    "\n",
    "\n",
    "# create a list to collect the plt.patches data\n",
    "totals = []\n",
    "\n",
    "# find the values and append to list\n",
    "for i in ax.patches:\n",
    "    totals.append(i.get_height())\n",
    "\n",
    "# set individual bar lables using above list\n",
    "total = sum(totals)\n",
    "\n",
    "# set individual bar lables using above list\n",
    "for i in ax.patches:\n",
    "    # get_x pulls left or right; get_height pushes up or down\n",
    "    ax.text(i.get_x()+.02, i.get_height()+.5, str(round((i.get_height()/total)*100, 1))+'%', \\\n",
    "            fontsize=20)"
   ]
  },
  {
   "cell_type": "markdown",
   "metadata": {},
   "source": [
    "## Model Creation"
   ]
  },
  {
   "cell_type": "markdown",
   "metadata": {},
   "source": [
    "### Word2Vec"
   ]
  },
  {
   "cell_type": "markdown",
   "metadata": {},
   "source": [
    "Training Model on CrisisLex data"
   ]
  },
  {
   "cell_type": "code",
   "execution_count": 124,
   "metadata": {},
   "outputs": [],
   "source": [
    "# Set X and y values\n",
    "X = df[(df['disaster'] == 'hurricane') | (df['disaster'] == 'tornado') | (df['disaster'] == 'off-topic')]['tweet'].copy()\n",
    "y = df[(df['disaster'] == 'hurricane') | (df['disaster'] == 'tornado') | (df['disaster'] == 'off-topic')]['disaster'].copy()"
   ]
  },
  {
   "cell_type": "code",
   "execution_count": 18,
   "metadata": {},
   "outputs": [],
   "source": [
    "# Import stop words\n",
    "from nltk.corpus import stopwords # Import the stop word list\n",
    "english_stop_words = set(stopwords.words('english'))"
   ]
  },
  {
   "cell_type": "code",
   "execution_count": 125,
   "metadata": {},
   "outputs": [],
   "source": [
    "# Function to create a nested list of tokenized words for each tweet\n",
    "\n",
    "def clean_tweets(tweets_column):\n",
    "    tweets_tokens = []\n",
    "    for tweet in tweets_column:  \n",
    "        if tweet not in english_stop_words:\n",
    "\n",
    "            # regex ref: https://www.machinelearningplus.com/python/python-regex-tutorial-examples/\n",
    "            tweets = re.sub('http\\S+\\s*', '', tweet)\n",
    "\n",
    "            tokenizer = RegexpTokenizer('[a-zA-Z]\\w+')\n",
    "            tweet_tokens = tokenizer.tokenize(tweets.lower())\n",
    "            tweets_tokens.append(tweet_tokens)\n",
    "    return tweets_tokens"
   ]
  },
  {
   "cell_type": "code",
   "execution_count": 126,
   "metadata": {},
   "outputs": [],
   "source": [
    "X = clean_tweets(X)"
   ]
  },
  {
   "cell_type": "code",
   "execution_count": 127,
   "metadata": {
    "scrolled": true
   },
   "outputs": [
    {
     "data": {
      "text/plain": [
       "[['heatleyjheat44', 'its', 'barley', 'even', 'raining', 'where', 'at', 'lol'],\n",
       " ['sorry', 'can', 'do', 'anything', 'right'],\n",
       " ['mrwendell29',\n",
       "  'bradsowderwx',\n",
       "  'says',\n",
       "  'we',\n",
       "  'have',\n",
       "  'the',\n",
       "  'risk',\n",
       "  'of',\n",
       "  'severe',\n",
       "  'weather',\n",
       "  'everyday',\n",
       "  'this',\n",
       "  'week',\n",
       "  'another',\n",
       "  'risk',\n",
       "  'for',\n",
       "  'tornadoes',\n",
       "  'ughh',\n",
       "  'you',\n",
       "  'said',\n",
       "  'it'],\n",
       " ['honestyhour',\n",
       "  'like',\n",
       "  'to',\n",
       "  'wear',\n",
       "  'half',\n",
       "  'split',\n",
       "  'running',\n",
       "  'shorts',\n",
       "  'without',\n",
       "  'the',\n",
       "  'liner',\n",
       "  'often',\n",
       "  'in',\n",
       "  'public',\n",
       "  'my',\n",
       "  'friends',\n",
       "  'almost',\n",
       "  'gave',\n",
       "  'me',\n",
       "  'an',\n",
       "  'intervention'],\n",
       " ['too', 'stressed', 'to', 'have', 'good', 'summer']]"
      ]
     },
     "execution_count": 127,
     "metadata": {},
     "output_type": "execute_result"
    }
   ],
   "source": [
    "X[:5]"
   ]
  },
  {
   "cell_type": "code",
   "execution_count": 128,
   "metadata": {
    "scrolled": true
   },
   "outputs": [
    {
     "data": {
      "text/plain": [
       "off-topic    9710\n",
       "hurricane    5579\n",
       "tornado      4168\n",
       "Name: disaster, dtype: int64"
      ]
     },
     "execution_count": 128,
     "metadata": {},
     "output_type": "execute_result"
    }
   ],
   "source": [
    "y.value_counts()"
   ]
  },
  {
   "cell_type": "code",
   "execution_count": 129,
   "metadata": {},
   "outputs": [],
   "source": [
    "# Train/test split\n",
    "X_train, X_test, y_train, y_test = train_test_split(X, y, random_state=42, stratify=y)"
   ]
  },
  {
   "cell_type": "code",
   "execution_count": 130,
   "metadata": {},
   "outputs": [
    {
     "name": "stderr",
     "output_type": "stream",
     "text": [
      "C:\\Users\\tengw\\Anaconda3\\envs\\dsi\\lib\\site-packages\\smart_open\\ssh.py:34: UserWarning: paramiko missing, opening SSH/SCP/SFTP paths will be disabled.  `pip install paramiko` to suppress\n",
      "  warnings.warn('paramiko missing, opening SSH/SCP/SFTP paths will be disabled.  `pip install paramiko` to suppress')\n",
      "C:\\Users\\tengw\\Anaconda3\\envs\\dsi\\lib\\site-packages\\gensim\\models\\base_any2vec.py:743: UserWarning: C extension not loaded, training will be slow. Install a C compiler and reinstall gensim for fast training.\n",
      "  \"C extension not loaded, training will be slow. \"\n"
     ]
    }
   ],
   "source": [
    "# Code from lecture 8.07-lesson-word_vectors\n",
    "# Import Word2Vec\n",
    "from gensim.models.word2vec import Word2Vec\n",
    "\n",
    "# Instantiate a model\n",
    "w2v = Word2Vec(X,     # Corpus of data.\n",
    "               size=100,    # How many dimensions do you want in your word vector?\n",
    "               window=5,    # How many \"context words\" do you want?\n",
    "               min_count=2, # Ignores words below this threshold.\n",
    "               sg=0,        # SG = 1 uses SkipGram, SG = 0 uses CBOW (default).\n",
    "               workers=4,   # Number of \"worker threads\" to use (parallelizes process).\n",
    "               hs=1, \n",
    "               negative=0);   "
   ]
  },
  {
   "cell_type": "code",
   "execution_count": 131,
   "metadata": {},
   "outputs": [
    {
     "data": {
      "text/plain": [
       "100"
      ]
     },
     "execution_count": 131,
     "metadata": {},
     "output_type": "execute_result"
    }
   ],
   "source": [
    "w2v.vector_size"
   ]
  },
  {
   "cell_type": "code",
   "execution_count": 191,
   "metadata": {},
   "outputs": [
    {
     "name": "stderr",
     "output_type": "stream",
     "text": [
      "C:\\Users\\tengw\\Anaconda3\\envs\\dsi\\lib\\site-packages\\ipykernel_launcher.py:1: DeprecationWarning: Call to deprecated `most_similar` (Method will be removed in 4.0.0, use self.wv.most_similar() instead).\n",
      "  \"\"\"Entry point for launching an IPython kernel.\n"
     ]
    },
    {
     "data": {
      "text/plain": [
       "[('grease', 0.6294353008270264),\n",
       " ('crazy', 0.5532630681991577),\n",
       " ('frankenstorm', 0.5442983508110046),\n",
       " ('portal', 0.5377262234687805),\n",
       " ('twitter', 0.5006821751594543),\n",
       " ('pics', 0.49836838245391846),\n",
       " ('happy_gilmore', 0.4959239661693573),\n",
       " ('as', 0.4938969612121582),\n",
       " ('intense', 0.4615463316440582),\n",
       " ('spooky', 0.4553093910217285),\n",
       " ('storm', 0.45471736788749695),\n",
       " ('batcave', 0.45006316900253296),\n",
       " ('intensifies', 0.44616466760635376),\n",
       " ('heads', 0.44570595026016235),\n",
       " ('ass', 0.44249194860458374)]"
      ]
     },
     "execution_count": 191,
     "metadata": {},
     "output_type": "execute_result"
    }
   ],
   "source": [
    "w2v.most_similar(\"hurricane\", topn=15)"
   ]
  },
  {
   "cell_type": "code",
   "execution_count": 192,
   "metadata": {},
   "outputs": [
    {
     "name": "stderr",
     "output_type": "stream",
     "text": [
      "C:\\Users\\tengw\\Anaconda3\\envs\\dsi\\lib\\site-packages\\ipykernel_launcher.py:1: DeprecationWarning: Call to deprecated `most_similar` (Method will be removed in 4.0.0, use self.wv.most_similar() instead).\n",
      "  \"\"\"Entry point for launching an IPython kernel.\n"
     ]
    },
    {
     "data": {
      "text/plain": [
       "[('twister', 0.7776492834091187),\n",
       " ('okla', 0.7620190382003784),\n",
       " ('dead', 0.7578803300857544),\n",
       " ('yesterday', 0.753004789352417),\n",
       " ('moore', 0.7523834705352783),\n",
       " ('tornadoes', 0.7366892099380493),\n",
       " ('worldwide', 0.7126064300537109),\n",
       " ('among', 0.7001399993896484),\n",
       " ('gr4sshopp3r', 0.6973611116409302),\n",
       " ('workers', 0.6781762838363647),\n",
       " ('response', 0.673595666885376),\n",
       " ('support', 0.6707808971405029),\n",
       " ('ap', 0.6707252264022827),\n",
       " ('including', 0.6650863885879517),\n",
       " ('oklahoma', 0.663838803768158)]"
      ]
     },
     "execution_count": 192,
     "metadata": {},
     "output_type": "execute_result"
    }
   ],
   "source": [
    "w2v.most_similar(\"tornado\", topn=15)"
   ]
  },
  {
   "cell_type": "markdown",
   "metadata": {},
   "source": [
    "### Create Model - CountVectorizer and Logistic Regression"
   ]
  },
  {
   "cell_type": "code",
   "execution_count": 143,
   "metadata": {},
   "outputs": [],
   "source": [
    "# Set X and y values\n",
    "X = df[(df['disaster'] == 'hurricane') | (df['disaster'] == 'tornado') | (df['disaster'] == 'off-topic')]['tweet'].copy()\n",
    "y = df[(df['disaster'] == 'hurricane') | (df['disaster'] == 'tornado') | (df['disaster'] == 'off-topic')]['disaster'].copy()"
   ]
  },
  {
   "cell_type": "code",
   "execution_count": 144,
   "metadata": {},
   "outputs": [],
   "source": [
    "# Train/test split\n",
    "X_train, X_test, y_train, y_test = train_test_split(X, y, random_state=42, stratify=y)"
   ]
  },
  {
   "cell_type": "code",
   "execution_count": 17,
   "metadata": {},
   "outputs": [],
   "source": [
    "# Found an article on how to use a Lemmatizer function within CountVectorizer at \n",
    "# https://towardsdatascience.com/hacking-scikit-learns-vectorizers-9ef26a7170af\n",
    "import spacy\n",
    "\n",
    "# Create a spaCy tokenizer\n",
    "spacy.load('en_core_web_sm')\n",
    "lemmatizer = spacy.lang.en.English()\n",
    "\n",
    "# tokenize the doc and lemmatize its tokens\n",
    "def my_tokenizer(doc):\n",
    "    tokens = lemmatizer(doc)\n",
    "    return([token.lemma_ for token in tokens])"
   ]
  },
  {
   "cell_type": "code",
   "execution_count": 16,
   "metadata": {},
   "outputs": [],
   "source": [
    "# Found a post on how to add to the stop words list \n",
    "# https://stackoverflow.com/questions/24386489/adding-words-to-scikit-learns-countvectorizers-stop-list\n",
    "from sklearn.feature_extraction import text \n",
    "stop_words = text.ENGLISH_STOP_WORDS\n",
    "stop_words = text.ENGLISH_STOP_WORDS.union('\"', ',', '-', '.', '(', ')')"
   ]
  },
  {
   "cell_type": "code",
   "execution_count": 145,
   "metadata": {},
   "outputs": [],
   "source": [
    "# Create pipeline with CountVectorizer and LogisticRegression\n",
    "pipe_cv_lg = Pipeline([('cvec', CountVectorizer()), ('lg', LogisticRegression())])"
   ]
  },
  {
   "cell_type": "raw",
   "metadata": {},
   "source": [
    "# Create the hyperparameters for CountVectorizer\n",
    "pipe_cv_params = {\n",
    "    'cvec__max_features': [1000, 2000, 3000, 4000],\n",
    "    'cvec__stop_words'  : [english_stop_words],\n",
    "    'cvec__ngram_range' : [(1,1), (1,2), (1,3)],\n",
    "    'cvec__min_df'      : [2],\n",
    "    'cvec__tokenizer'   : [None, my_tokenizer]\n",
    "}"
   ]
  },
  {
   "cell_type": "raw",
   "metadata": {
    "scrolled": true
   },
   "source": [
    "# Use GridSearchCV to find the best parameters for CountVectorizer and Logistic Regression\n",
    "gs_cv_lg = GridSearchCV(pipe_cv_lg, param_grid=pipe_cv_params, cv=3, verbose=0)\n",
    "gs_cv_lg.fit(X_train, y_train)\n",
    "print(gs_cv_lg.best_score_)\n",
    "cv_lg_best_params = gs_cv_lg.best_params_\n",
    "gs_cv_lg.best_params_"
   ]
  },
  {
   "cell_type": "code",
   "execution_count": 227,
   "metadata": {},
   "outputs": [],
   "source": [
    "pipe_cv_lg = Pipeline([('cvec', CountVectorizer(\n",
    "                                                max_features=3000,\n",
    "                                                min_df = 2,\n",
    "                                                ngram_range = (1,2),\n",
    "                                                stop_words = english_stop_words,\n",
    "                                                tokenizer = None\n",
    "                                                )), ('lg', LogisticRegression(solver='liblinear', multi_class='ovr'))])\n",
    "pipe_cv_lg.fit(X_train, y_train);"
   ]
  },
  {
   "cell_type": "code",
   "execution_count": 147,
   "metadata": {},
   "outputs": [
    {
     "data": {
      "text/plain": [
       "0.9577850877192983"
      ]
     },
     "execution_count": 147,
     "metadata": {},
     "output_type": "execute_result"
    }
   ],
   "source": [
    "pipe_cv_lg.score(X_train, y_train)"
   ]
  },
  {
   "cell_type": "code",
   "execution_count": 148,
   "metadata": {},
   "outputs": [
    {
     "data": {
      "text/plain": [
       "0.9251798561151079"
      ]
     },
     "execution_count": 148,
     "metadata": {},
     "output_type": "execute_result"
    }
   ],
   "source": [
    "pipe_cv_lg.score(X_test, y_test)"
   ]
  },
  {
   "cell_type": "code",
   "execution_count": 149,
   "metadata": {},
   "outputs": [],
   "source": [
    "pred = pipe_cv_lg.predict(X_test)"
   ]
  },
  {
   "cell_type": "code",
   "execution_count": 150,
   "metadata": {},
   "outputs": [],
   "source": [
    "# Build a confusion matrix\n",
    "cm = confusion_matrix(y_test, pred)"
   ]
  },
  {
   "cell_type": "code",
   "execution_count": 151,
   "metadata": {
    "scrolled": false
   },
   "outputs": [
    {
     "data": {
      "text/plain": [
       "off-topic    2428\n",
       "hurricane    1395\n",
       "tornado      1042\n",
       "Name: disaster, dtype: int64"
      ]
     },
     "execution_count": 151,
     "metadata": {},
     "output_type": "execute_result"
    }
   ],
   "source": [
    "y_test.value_counts()"
   ]
  },
  {
   "cell_type": "code",
   "execution_count": 152,
   "metadata": {},
   "outputs": [
    {
     "data": {
      "text/plain": [
       "array([['hurricane', 1377],\n",
       "       ['off-topic', 2451],\n",
       "       ['tornado', 1037]], dtype=object)"
      ]
     },
     "execution_count": 152,
     "metadata": {},
     "output_type": "execute_result"
    }
   ],
   "source": [
    "# Referred to \n",
    "# https://stackoverflow.com/questions/10741346/numpy-most-efficient-frequency-counts-for-unique-values-in-an-array\n",
    "np.array(np.unique(pred, return_counts=True)).T"
   ]
  },
  {
   "cell_type": "code",
   "execution_count": 153,
   "metadata": {},
   "outputs": [
    {
     "data": {
      "text/html": [
       "<div>\n",
       "<style scoped>\n",
       "    .dataframe tbody tr th:only-of-type {\n",
       "        vertical-align: middle;\n",
       "    }\n",
       "\n",
       "    .dataframe tbody tr th {\n",
       "        vertical-align: top;\n",
       "    }\n",
       "\n",
       "    .dataframe thead th {\n",
       "        text-align: right;\n",
       "    }\n",
       "</style>\n",
       "<table border=\"1\" class=\"dataframe\">\n",
       "  <thead>\n",
       "    <tr style=\"text-align: right;\">\n",
       "      <th></th>\n",
       "      <th>pred hurricane</th>\n",
       "      <th>pred off-topic</th>\n",
       "      <th>pred tornado</th>\n",
       "    </tr>\n",
       "  </thead>\n",
       "  <tbody>\n",
       "    <tr>\n",
       "      <th>actual hurricane</th>\n",
       "      <td>1292</td>\n",
       "      <td>100</td>\n",
       "      <td>3</td>\n",
       "    </tr>\n",
       "    <tr>\n",
       "      <th>actual off-topic</th>\n",
       "      <td>79</td>\n",
       "      <td>2262</td>\n",
       "      <td>87</td>\n",
       "    </tr>\n",
       "    <tr>\n",
       "      <th>actual tornado</th>\n",
       "      <td>6</td>\n",
       "      <td>89</td>\n",
       "      <td>947</td>\n",
       "    </tr>\n",
       "  </tbody>\n",
       "</table>\n",
       "</div>"
      ],
      "text/plain": [
       "                  pred hurricane  pred off-topic  pred tornado\n",
       "actual hurricane            1292             100             3\n",
       "actual off-topic              79            2262            87\n",
       "actual tornado                 6              89           947"
      ]
     },
     "execution_count": 153,
     "metadata": {},
     "output_type": "execute_result"
    }
   ],
   "source": [
    "cm_df = pd.DataFrame(cm, columns=['pred hurricane', 'pred off-topic', 'pred tornado'], \n",
    "                     index=['actual hurricane', 'actual off-topic', 'actual tornado'])\n",
    "cm_df"
   ]
  },
  {
   "cell_type": "code",
   "execution_count": 154,
   "metadata": {},
   "outputs": [
    {
     "name": "stdout",
     "output_type": "stream",
     "text": [
      "              precision    recall  f1-score   support\n",
      "\n",
      "   hurricane       0.94      0.93      0.93      1395\n",
      "   off-topic       0.92      0.93      0.93      2428\n",
      "     tornado       0.91      0.91      0.91      1042\n",
      "\n",
      "    accuracy                           0.93      4865\n",
      "   macro avg       0.92      0.92      0.92      4865\n",
      "weighted avg       0.93      0.93      0.93      4865\n",
      "\n"
     ]
    }
   ],
   "source": [
    "print(metrics.classification_report(y_test, pred))"
   ]
  },
  {
   "cell_type": "code",
   "execution_count": 229,
   "metadata": {},
   "outputs": [],
   "source": [
    "# Fit the model on the entire dataset\n",
    "pipe_cv_lg.fit(X, y);"
   ]
  },
  {
   "cell_type": "markdown",
   "metadata": {},
   "source": [
    "### Exploration of Logistic Regression Features"
   ]
  },
  {
   "cell_type": "code",
   "execution_count": 194,
   "metadata": {},
   "outputs": [
    {
     "data": {
      "text/html": [
       "<div>\n",
       "<style scoped>\n",
       "    .dataframe tbody tr th:only-of-type {\n",
       "        vertical-align: middle;\n",
       "    }\n",
       "\n",
       "    .dataframe tbody tr th {\n",
       "        vertical-align: top;\n",
       "    }\n",
       "\n",
       "    .dataframe thead th {\n",
       "        text-align: right;\n",
       "    }\n",
       "</style>\n",
       "<table border=\"1\" class=\"dataframe\">\n",
       "  <thead>\n",
       "    <tr style=\"text-align: right;\">\n",
       "      <th></th>\n",
       "      <th>0</th>\n",
       "      <th>1</th>\n",
       "      <th>2</th>\n",
       "    </tr>\n",
       "  </thead>\n",
       "  <tbody>\n",
       "    <tr>\n",
       "      <th>00</th>\n",
       "      <td>0.009889</td>\n",
       "      <td>0.333068</td>\n",
       "      <td>-0.351502</td>\n",
       "    </tr>\n",
       "    <tr>\n",
       "      <th>00 humidity</th>\n",
       "      <td>-0.279203</td>\n",
       "      <td>0.038071</td>\n",
       "      <td>0.130895</td>\n",
       "    </tr>\n",
       "    <tr>\n",
       "      <th>000</th>\n",
       "      <td>-0.742591</td>\n",
       "      <td>-0.130306</td>\n",
       "      <td>0.539865</td>\n",
       "    </tr>\n",
       "    <tr>\n",
       "      <th>10</th>\n",
       "      <td>-0.499845</td>\n",
       "      <td>0.619826</td>\n",
       "      <td>-0.461561</td>\n",
       "    </tr>\n",
       "    <tr>\n",
       "      <th>10 donation</th>\n",
       "      <td>0.043029</td>\n",
       "      <td>-0.329288</td>\n",
       "      <td>0.253616</td>\n",
       "    </tr>\n",
       "  </tbody>\n",
       "</table>\n",
       "</div>"
      ],
      "text/plain": [
       "                    0         1         2\n",
       "00           0.009889  0.333068 -0.351502\n",
       "00 humidity -0.279203  0.038071  0.130895\n",
       "000         -0.742591 -0.130306  0.539865\n",
       "10          -0.499845  0.619826 -0.461561\n",
       "10 donation  0.043029 -0.329288  0.253616"
      ]
     },
     "execution_count": 194,
     "metadata": {},
     "output_type": "execute_result"
    }
   ],
   "source": [
    "cv_lg_df = pd.DataFrame(pipe_cv_lg['lg'].coef_, columns=pipe_cv_lg['cvec'].get_feature_names()).transpose()\n",
    "cv_lg_df.head()"
   ]
  },
  {
   "cell_type": "code",
   "execution_count": 195,
   "metadata": {},
   "outputs": [
    {
     "data": {
      "text/html": [
       "<div>\n",
       "<style scoped>\n",
       "    .dataframe tbody tr th:only-of-type {\n",
       "        vertical-align: middle;\n",
       "    }\n",
       "\n",
       "    .dataframe tbody tr th {\n",
       "        vertical-align: top;\n",
       "    }\n",
       "\n",
       "    .dataframe thead th {\n",
       "        text-align: right;\n",
       "    }\n",
       "</style>\n",
       "<table border=\"1\" class=\"dataframe\">\n",
       "  <thead>\n",
       "    <tr style=\"text-align: right;\">\n",
       "      <th></th>\n",
       "      <th>hurricane_coef</th>\n",
       "      <th>off-topic_coef</th>\n",
       "      <th>tornado_coef</th>\n",
       "    </tr>\n",
       "  </thead>\n",
       "  <tbody>\n",
       "    <tr>\n",
       "      <th>hurricane</th>\n",
       "      <td>6.124944</td>\n",
       "      <td>-5.515694</td>\n",
       "      <td>-3.081358</td>\n",
       "    </tr>\n",
       "    <tr>\n",
       "      <th>hurricanesandy</th>\n",
       "      <td>4.483616</td>\n",
       "      <td>-4.339158</td>\n",
       "      <td>-0.768149</td>\n",
       "    </tr>\n",
       "    <tr>\n",
       "      <th>frankenstorm</th>\n",
       "      <td>4.445786</td>\n",
       "      <td>-3.939280</td>\n",
       "      <td>-1.263087</td>\n",
       "    </tr>\n",
       "    <tr>\n",
       "      <th>sandy</th>\n",
       "      <td>4.442245</td>\n",
       "      <td>-4.117390</td>\n",
       "      <td>-0.990367</td>\n",
       "    </tr>\n",
       "    <tr>\n",
       "      <th>storm</th>\n",
       "      <td>3.673336</td>\n",
       "      <td>-3.460601</td>\n",
       "      <td>0.689464</td>\n",
       "    </tr>\n",
       "    <tr>\n",
       "      <th>power</th>\n",
       "      <td>3.197192</td>\n",
       "      <td>-2.869555</td>\n",
       "      <td>-0.718893</td>\n",
       "    </tr>\n",
       "    <tr>\n",
       "      <th>hurricanes</th>\n",
       "      <td>2.871049</td>\n",
       "      <td>-3.138435</td>\n",
       "      <td>0.000866</td>\n",
       "    </tr>\n",
       "    <tr>\n",
       "      <th>evacuate</th>\n",
       "      <td>2.845862</td>\n",
       "      <td>-2.730503</td>\n",
       "      <td>-0.113967</td>\n",
       "    </tr>\n",
       "    <tr>\n",
       "      <th>electricity</th>\n",
       "      <td>2.433705</td>\n",
       "      <td>-2.300247</td>\n",
       "      <td>-0.171985</td>\n",
       "    </tr>\n",
       "    <tr>\n",
       "      <th>powers</th>\n",
       "      <td>2.420478</td>\n",
       "      <td>-2.069714</td>\n",
       "      <td>-0.343224</td>\n",
       "    </tr>\n",
       "    <tr>\n",
       "      <th>issued</th>\n",
       "      <td>2.207267</td>\n",
       "      <td>-1.351251</td>\n",
       "      <td>-0.410087</td>\n",
       "    </tr>\n",
       "    <tr>\n",
       "      <th>windy</th>\n",
       "      <td>2.090710</td>\n",
       "      <td>-1.787196</td>\n",
       "      <td>-0.357083</td>\n",
       "    </tr>\n",
       "    <tr>\n",
       "      <th>water</th>\n",
       "      <td>2.034914</td>\n",
       "      <td>-1.867207</td>\n",
       "      <td>0.442787</td>\n",
       "    </tr>\n",
       "    <tr>\n",
       "      <th>wind</th>\n",
       "      <td>1.963481</td>\n",
       "      <td>-1.630428</td>\n",
       "      <td>-0.372237</td>\n",
       "    </tr>\n",
       "    <tr>\n",
       "      <th>tree</th>\n",
       "      <td>1.934412</td>\n",
       "      <td>-1.674583</td>\n",
       "      <td>-0.392953</td>\n",
       "    </tr>\n",
       "  </tbody>\n",
       "</table>\n",
       "</div>"
      ],
      "text/plain": [
       "                hurricane_coef  off-topic_coef  tornado_coef\n",
       "hurricane             6.124944       -5.515694     -3.081358\n",
       "hurricanesandy        4.483616       -4.339158     -0.768149\n",
       "frankenstorm          4.445786       -3.939280     -1.263087\n",
       "sandy                 4.442245       -4.117390     -0.990367\n",
       "storm                 3.673336       -3.460601      0.689464\n",
       "power                 3.197192       -2.869555     -0.718893\n",
       "hurricanes            2.871049       -3.138435      0.000866\n",
       "evacuate              2.845862       -2.730503     -0.113967\n",
       "electricity           2.433705       -2.300247     -0.171985\n",
       "powers                2.420478       -2.069714     -0.343224\n",
       "issued                2.207267       -1.351251     -0.410087\n",
       "windy                 2.090710       -1.787196     -0.357083\n",
       "water                 2.034914       -1.867207      0.442787\n",
       "wind                  1.963481       -1.630428     -0.372237\n",
       "tree                  1.934412       -1.674583     -0.392953"
      ]
     },
     "execution_count": 195,
     "metadata": {},
     "output_type": "execute_result"
    }
   ],
   "source": [
    "cv_lg_df.columns = ['hurricane_coef', 'off-topic_coef', 'tornado_coef']                         \n",
    "cv_lg_df.sort_values(by=['hurricane_coef'], ascending=False).head(15)"
   ]
  },
  {
   "cell_type": "code",
   "execution_count": 196,
   "metadata": {},
   "outputs": [
    {
     "data": {
      "text/plain": [
       "0.9884080645870024"
      ]
     },
     "execution_count": 196,
     "metadata": {},
     "output_type": "execute_result"
    }
   ],
   "source": [
    "# Calculate the probability that the word \"frankenstorm\" indicates a hurricane tweet\n",
    "(np.exp(4.445786) / (1+np.exp(4.445786)))"
   ]
  },
  {
   "cell_type": "code",
   "execution_count": 252,
   "metadata": {
    "scrolled": false
   },
   "outputs": [
    {
     "data": {
      "image/png": "[encoded data removed]",
      "text/plain": [
       "<Figure size 864x432 with 1 Axes>"
      ]
     },
     "metadata": {
      "needs_background": "light"
     },
     "output_type": "display_data"
    }
   ],
   "source": [
    "top_hurricane_words = cv_lg_df.sort_values(by=['hurricane_coef'], ascending=False).head(15)\n",
    "\n",
    "s = [(3.5*n)**3 for n in top_hurricane_words['hurricane_coef']]\n",
    "plt.figure(figsize=(12, 6))\n",
    "plt.scatter(x = top_hurricane_words.index, y = top_hurricane_words['hurricane_coef'], s=s, color='#434343', alpha=1)\n",
    "plt.title(\"Top 15 Hurricane Word Coefficients\", fontsize = 30)\n",
    "plt.ylabel(\"Log Coefficients\", fontsize = 20)\n",
    "# plt.xlabel(\"Hurricane Words\", fontsize = 20)\n",
    "plt.xticks(fontsize=20, rotation = 45)\n",
    "plt.yticks(fontsize=20)\n",
    "plt.ylim(0, 7);"
   ]
  },
  {
   "cell_type": "code",
   "execution_count": 198,
   "metadata": {},
   "outputs": [
    {
     "data": {
      "text/html": [
       "<div>\n",
       "<style scoped>\n",
       "    .dataframe tbody tr th:only-of-type {\n",
       "        vertical-align: middle;\n",
       "    }\n",
       "\n",
       "    .dataframe tbody tr th {\n",
       "        vertical-align: top;\n",
       "    }\n",
       "\n",
       "    .dataframe thead th {\n",
       "        text-align: right;\n",
       "    }\n",
       "</style>\n",
       "<table border=\"1\" class=\"dataframe\">\n",
       "  <thead>\n",
       "    <tr style=\"text-align: right;\">\n",
       "      <th></th>\n",
       "      <th>hurricane_coef</th>\n",
       "      <th>off-topic_coef</th>\n",
       "      <th>tornado_coef</th>\n",
       "    </tr>\n",
       "  </thead>\n",
       "  <tbody>\n",
       "    <tr>\n",
       "      <th>tornado</th>\n",
       "      <td>-4.162480</td>\n",
       "      <td>-3.895224</td>\n",
       "      <td>5.196684</td>\n",
       "    </tr>\n",
       "    <tr>\n",
       "      <th>oklahoma</th>\n",
       "      <td>-4.114862</td>\n",
       "      <td>-2.919352</td>\n",
       "      <td>4.064589</td>\n",
       "    </tr>\n",
       "    <tr>\n",
       "      <th>tornadoes</th>\n",
       "      <td>-0.822281</td>\n",
       "      <td>-2.773019</td>\n",
       "      <td>3.365962</td>\n",
       "    </tr>\n",
       "    <tr>\n",
       "      <th>prayforoklahoma</th>\n",
       "      <td>-0.531276</td>\n",
       "      <td>-2.950107</td>\n",
       "      <td>3.343421</td>\n",
       "    </tr>\n",
       "    <tr>\n",
       "      <th>moore</th>\n",
       "      <td>-2.808381</td>\n",
       "      <td>-2.085025</td>\n",
       "      <td>3.053795</td>\n",
       "    </tr>\n",
       "    <tr>\n",
       "      <th>oklahomastrong</th>\n",
       "      <td>-0.315569</td>\n",
       "      <td>-2.261498</td>\n",
       "      <td>2.682939</td>\n",
       "    </tr>\n",
       "    <tr>\n",
       "      <th>tornados</th>\n",
       "      <td>-0.167506</td>\n",
       "      <td>-2.217009</td>\n",
       "      <td>2.624020</td>\n",
       "    </tr>\n",
       "    <tr>\n",
       "      <th>prayformoore</th>\n",
       "      <td>-0.348144</td>\n",
       "      <td>-1.783022</td>\n",
       "      <td>2.258378</td>\n",
       "    </tr>\n",
       "    <tr>\n",
       "      <th>devastation</th>\n",
       "      <td>0.090725</td>\n",
       "      <td>-1.911985</td>\n",
       "      <td>2.134095</td>\n",
       "    </tr>\n",
       "    <tr>\n",
       "      <th>donations</th>\n",
       "      <td>-0.376416</td>\n",
       "      <td>-1.562972</td>\n",
       "      <td>2.027673</td>\n",
       "    </tr>\n",
       "    <tr>\n",
       "      <th>storms</th>\n",
       "      <td>0.847584</td>\n",
       "      <td>-1.990403</td>\n",
       "      <td>1.942627</td>\n",
       "    </tr>\n",
       "    <tr>\n",
       "      <th>oklahomans</th>\n",
       "      <td>-0.484015</td>\n",
       "      <td>-1.320241</td>\n",
       "      <td>1.929670</td>\n",
       "    </tr>\n",
       "    <tr>\n",
       "      <th>helping</th>\n",
       "      <td>0.256181</td>\n",
       "      <td>-1.532996</td>\n",
       "      <td>1.736635</td>\n",
       "    </tr>\n",
       "    <tr>\n",
       "      <th>destroyed</th>\n",
       "      <td>1.266231</td>\n",
       "      <td>-2.043825</td>\n",
       "      <td>1.691383</td>\n",
       "    </tr>\n",
       "    <tr>\n",
       "      <th>prayers</th>\n",
       "      <td>0.549240</td>\n",
       "      <td>-1.723071</td>\n",
       "      <td>1.620012</td>\n",
       "    </tr>\n",
       "  </tbody>\n",
       "</table>\n",
       "</div>"
      ],
      "text/plain": [
       "                 hurricane_coef  off-topic_coef  tornado_coef\n",
       "tornado               -4.162480       -3.895224      5.196684\n",
       "oklahoma              -4.114862       -2.919352      4.064589\n",
       "tornadoes             -0.822281       -2.773019      3.365962\n",
       "prayforoklahoma       -0.531276       -2.950107      3.343421\n",
       "moore                 -2.808381       -2.085025      3.053795\n",
       "oklahomastrong        -0.315569       -2.261498      2.682939\n",
       "tornados              -0.167506       -2.217009      2.624020\n",
       "prayformoore          -0.348144       -1.783022      2.258378\n",
       "devastation            0.090725       -1.911985      2.134095\n",
       "donations             -0.376416       -1.562972      2.027673\n",
       "storms                 0.847584       -1.990403      1.942627\n",
       "oklahomans            -0.484015       -1.320241      1.929670\n",
       "helping                0.256181       -1.532996      1.736635\n",
       "destroyed              1.266231       -2.043825      1.691383\n",
       "prayers                0.549240       -1.723071      1.620012"
      ]
     },
     "execution_count": 198,
     "metadata": {},
     "output_type": "execute_result"
    }
   ],
   "source": [
    "cv_lg_df.sort_values(by=['tornado_coef'], ascending=False).head(15)"
   ]
  },
  {
   "cell_type": "code",
   "execution_count": 199,
   "metadata": {},
   "outputs": [
    {
     "data": {
      "text/plain": [
       "0.9831197892611465"
      ]
     },
     "execution_count": 199,
     "metadata": {},
     "output_type": "execute_result"
    }
   ],
   "source": [
    "# Calculate the probability that the word \"oklahoma\" indicates a tornado tweet\n",
    "(np.exp(4.064589) / (1+np.exp(4.064589)))"
   ]
  },
  {
   "cell_type": "code",
   "execution_count": 251,
   "metadata": {},
   "outputs": [
    {
     "data": {
      "image/png": "[encoded data removed]",
      "text/plain": [
       "<Figure size 864x432 with 1 Axes>"
      ]
     },
     "metadata": {
      "needs_background": "light"
     },
     "output_type": "display_data"
    }
   ],
   "source": [
    "top_tornado_words = cv_lg_df.sort_values(by=['tornado_coef'], ascending=False).head(15)\n",
    "\n",
    "s = [(3.5*n)**3 for n in top_tornado_words['tornado_coef']]\n",
    "plt.figure(figsize=(12, 6))\n",
    "plt.scatter(x = top_tornado_words.index, y = top_tornado_words['tornado_coef'], s=s, color='#466269', alpha=1)\n",
    "plt.title(\"Top 15 Tornado Word Coefficients\", fontsize = 30)\n",
    "plt.ylabel(\"Log Coefficients\", fontsize = 20)\n",
    "# plt.xlabel(\"Tornado Words\", fontsize = 15)\n",
    "plt.xticks(fontsize=20, rotation = 45)\n",
    "plt.yticks(fontsize=20)\n",
    "plt.ylim(0, 7);"
   ]
  },
  {
   "cell_type": "markdown",
   "metadata": {},
   "source": [
    "<div class=\"alert alert-block alert-info\">\n",
    "The top 15 words that appear frequently in the pipeline with a CountVectorizer and a LogisticRegression model for both \"hurricane\" and \"tornado\" were generated, and then plotted with their respective coefficients.\n",
    "    <br>    \n",
    "    \n",
    "\"Hurricanesandy\", \"frankenstorm\", \"power\", \"evacuate\", \"windy\", and \"water\" are words that jump out for Hurricane Sandy. Based on the coefficient of 4.445786 for \"frankenstorm\", the appearance of that word in a tweet would indicate an 98.8% chance that the tweet is about the hurricane.\n",
    "\n",
    "<br>\n",
    "For tornado, \"prayforoklahoma\", \"moore\", \"oklahomastrong\", \"devastation\", and \"donations\" are all words related to the tornado that blew through Moore, Oklahoma. Based on the coefficient of 4.064589 for \"oklahoma\", the appearance of that word in a post would indicate an 98.3% chance that the post is about the tornado. \n",
    "\n",
    "<br>\n",
    "\n",
    "\"Storm\" and \"destroyed\" are two examples of ambiguous words that may indicate either a hurricane or a tornado. The model is currently trained based on two specific instances of disasters, so the list of related words with high coefficients are confined to locations and names of the disasters. Gathering more tweets during future disasters as they occur would build a more robust corpus and model.\n",
    "<br>\n",
    "</div>"
   ]
  },
  {
   "cell_type": "markdown",
   "metadata": {},
   "source": [
    "### Create Model - CountVectorizer and Support Vector Machines"
   ]
  },
  {
   "cell_type": "code",
   "execution_count": 230,
   "metadata": {},
   "outputs": [],
   "source": [
    "# Set X and y values\n",
    "X = df[(df['disaster'] == 'hurricane') | (df['disaster'] == 'tornado') | (df['disaster'] == 'off-topic')]['tweet'].copy()\n",
    "y = df[(df['disaster'] == 'hurricane') | (df['disaster'] == 'tornado') | (df['disaster'] == 'off-topic')]['disaster'].copy()"
   ]
  },
  {
   "cell_type": "code",
   "execution_count": 231,
   "metadata": {},
   "outputs": [],
   "source": [
    "# Train/test split\n",
    "X_train, X_test, y_train, y_test = train_test_split(X, y, random_state=42, stratify=y)"
   ]
  },
  {
   "cell_type": "code",
   "execution_count": 232,
   "metadata": {},
   "outputs": [],
   "source": [
    "# Create pipeline with CountVectorizer and Support Vector Machines\n",
    "pipe_cv_svc = Pipeline([('cvec', CountVectorizer()), ('svc', SVC())])"
   ]
  },
  {
   "cell_type": "raw",
   "metadata": {},
   "source": [
    "# Use GridSearchCV to find the best parameters for CountVectorizer and Support Vector Machines\n",
    "gs_cv_svc = GridSearchCV(pipe_cv_svc, param_grid=pipe_cv_params, cv=3, verbose=0)\n",
    "gs_cv_svc.fit(X_train, y_train)\n",
    "print(gs_cv_svc.best_score_)\n",
    "cv_svc_best_params = gs_cv_svc.best_params_\n",
    "gs_cv_svc.best_params_"
   ]
  },
  {
   "cell_type": "code",
   "execution_count": 236,
   "metadata": {
    "scrolled": true
   },
   "outputs": [
    {
     "name": "stderr",
     "output_type": "stream",
     "text": [
      "C:\\Users\\tengw\\Anaconda3\\envs\\dsi\\lib\\site-packages\\sklearn\\feature_extraction\\text.py:300: UserWarning: Your stop_words may be inconsistent with your preprocessing. Tokenizing the stop words generated tokens ['3', 'far', 'good', 'little', 'make', '\\ufeff1'] not in stop_words.\n",
      "  'stop_words.' % sorted(inconsistent))\n"
     ]
    }
   ],
   "source": [
    "pipe_cv_svc = Pipeline([('cvec', CountVectorizer(\n",
    "                                                max_features=1000,\n",
    "                                                min_df = 2,\n",
    "                                                ngram_range = (1,3),\n",
    "                                                stop_words = stop_words,\n",
    "                                                tokenizer = my_tokenizer\n",
    "                                                )), ('svc', SVC(gamma='auto'))])\n",
    "pipe_cv_svc.fit(X_train, y_train);"
   ]
  },
  {
   "cell_type": "code",
   "execution_count": 237,
   "metadata": {},
   "outputs": [
    {
     "data": {
      "text/plain": [
       "0.8917214912280702"
      ]
     },
     "execution_count": 237,
     "metadata": {},
     "output_type": "execute_result"
    }
   ],
   "source": [
    "pipe_cv_svc.score(X_train, y_train)"
   ]
  },
  {
   "cell_type": "code",
   "execution_count": 238,
   "metadata": {},
   "outputs": [
    {
     "data": {
      "text/plain": [
       "0.8855087358684481"
      ]
     },
     "execution_count": 238,
     "metadata": {},
     "output_type": "execute_result"
    }
   ],
   "source": [
    "pipe_cv_svc.score(X_test, y_test)"
   ]
  },
  {
   "cell_type": "code",
   "execution_count": 239,
   "metadata": {},
   "outputs": [],
   "source": [
    "pred = pipe_cv_svc.predict(X_test)"
   ]
  },
  {
   "cell_type": "code",
   "execution_count": 240,
   "metadata": {},
   "outputs": [
    {
     "data": {
      "text/html": [
       "<div>\n",
       "<style scoped>\n",
       "    .dataframe tbody tr th:only-of-type {\n",
       "        vertical-align: middle;\n",
       "    }\n",
       "\n",
       "    .dataframe tbody tr th {\n",
       "        vertical-align: top;\n",
       "    }\n",
       "\n",
       "    .dataframe thead th {\n",
       "        text-align: right;\n",
       "    }\n",
       "</style>\n",
       "<table border=\"1\" class=\"dataframe\">\n",
       "  <thead>\n",
       "    <tr style=\"text-align: right;\">\n",
       "      <th></th>\n",
       "      <th>pred hurricane</th>\n",
       "      <th>pred off-topic</th>\n",
       "      <th>pred tornado</th>\n",
       "    </tr>\n",
       "  </thead>\n",
       "  <tbody>\n",
       "    <tr>\n",
       "      <th>actual hurricane</th>\n",
       "      <td>1135</td>\n",
       "      <td>260</td>\n",
       "      <td>0</td>\n",
       "    </tr>\n",
       "    <tr>\n",
       "      <th>actual off-topic</th>\n",
       "      <td>41</td>\n",
       "      <td>2270</td>\n",
       "      <td>117</td>\n",
       "    </tr>\n",
       "    <tr>\n",
       "      <th>actual tornado</th>\n",
       "      <td>2</td>\n",
       "      <td>137</td>\n",
       "      <td>903</td>\n",
       "    </tr>\n",
       "  </tbody>\n",
       "</table>\n",
       "</div>"
      ],
      "text/plain": [
       "                  pred hurricane  pred off-topic  pred tornado\n",
       "actual hurricane  1135            260             0           \n",
       "actual off-topic  41              2270            117         \n",
       "actual tornado    2               137             903         "
      ]
     },
     "execution_count": 240,
     "metadata": {},
     "output_type": "execute_result"
    }
   ],
   "source": [
    "# Build a confusion matrix\n",
    "cm = confusion_matrix(y_test, pred)\n",
    "cm_df = pd.DataFrame(cm, columns=['pred hurricane', 'pred off-topic', 'pred tornado'], \n",
    "                     index=['actual hurricane', 'actual off-topic', 'actual tornado'])\n",
    "cm_df"
   ]
  },
  {
   "cell_type": "code",
   "execution_count": 241,
   "metadata": {
    "scrolled": true
   },
   "outputs": [
    {
     "name": "stdout",
     "output_type": "stream",
     "text": [
      "              precision    recall  f1-score   support\n",
      "\n",
      "   hurricane       0.96      0.81      0.88      1395\n",
      "   off-topic       0.85      0.93      0.89      2428\n",
      "     tornado       0.89      0.87      0.88      1042\n",
      "\n",
      "    accuracy                           0.89      4865\n",
      "   macro avg       0.90      0.87      0.88      4865\n",
      "weighted avg       0.89      0.89      0.89      4865\n",
      "\n"
     ]
    }
   ],
   "source": [
    "print(metrics.classification_report(y_test, pred))"
   ]
  },
  {
   "cell_type": "markdown",
   "metadata": {},
   "source": [
    "### Create Model - CountVectorizer and Random Forests"
   ]
  },
  {
   "cell_type": "code",
   "execution_count": 12,
   "metadata": {},
   "outputs": [],
   "source": [
    "# Set X and y values\n",
    "X = df[(df['disaster'] == 'hurricane') | (df['disaster'] == 'tornado') | (df['disaster'] == 'off-topic')]['tweet'].copy()\n",
    "y = df[(df['disaster'] == 'hurricane') | (df['disaster'] == 'tornado') | (df['disaster'] == 'off-topic')]['disaster'].copy()"
   ]
  },
  {
   "cell_type": "code",
   "execution_count": 13,
   "metadata": {},
   "outputs": [],
   "source": [
    "# Train/test split\n",
    "X_train, X_test, y_train, y_test = train_test_split(X, y, random_state=42, stratify=y)"
   ]
  },
  {
   "cell_type": "code",
   "execution_count": 14,
   "metadata": {},
   "outputs": [],
   "source": [
    "# Create pipeline with CountVectorizer and RandomForestClassifier\n",
    "pipe_cv_rf = Pipeline([('cvec', CountVectorizer()), ('rf', RandomForestClassifier())])"
   ]
  },
  {
   "cell_type": "raw",
   "metadata": {},
   "source": [
    "# Create the hyperparameters for CountVectorizer\n",
    "pipe_rf_params = {\n",
    "    'cvec__max_features': [1000],\n",
    "    'cvec__stop_words'  : [stop_words],\n",
    "    'cvec__ngram_range' : [(1,3)],\n",
    "    'cvec__min_df'      : [2],\n",
    "    'cvec__tokenizer'   : [my_tokenizer],\n",
    "    'rf__n_estimators' : [100],\n",
    "    'rf__max_depth' : [16, 20, 24],\n",
    "    'rf__min_samples_split' : [3],\n",
    "    'rf__min_samples_leaf' : [4]\n",
    "}"
   ]
  },
  {
   "cell_type": "raw",
   "metadata": {
    "scrolled": true
   },
   "source": [
    "# Use GridSearchCV to find the best parameters for CountVectorizer and Random Forests\n",
    "gs_cv_rf = GridSearchCV(pipe_cv_rf, param_grid=pipe_rf_params, cv=5, verbose=0)\n",
    "gs_cv_rf.fit(X_train, y_train)\n",
    "print(gs_cv_rf.best_score_)\n",
    "cv_rf_best_params = gs_cv_rf.best_params_\n",
    "gs_cv_rf.best_params_"
   ]
  },
  {
   "cell_type": "code",
   "execution_count": 19,
   "metadata": {
    "scrolled": true
   },
   "outputs": [
    {
     "name": "stderr",
     "output_type": "stream",
     "text": [
      "C:\\Users\\tengw\\Anaconda3\\envs\\dsi\\lib\\site-packages\\sklearn\\feature_extraction\\text.py:300: UserWarning: Your stop_words may be inconsistent with your preprocessing. Tokenizing the stop words generated tokens ['3', 'far', 'good', 'little', 'make', '\\ufeff1'] not in stop_words.\n",
      "  'stop_words.' % sorted(inconsistent))\n"
     ]
    }
   ],
   "source": [
    "pipe_cv_rf = Pipeline([('cvec', CountVectorizer(\n",
    "                                                max_features=1000,\n",
    "                                                min_df = 2,\n",
    "                                                ngram_range = (1,3),\n",
    "                                                stop_words = stop_words,\n",
    "                                                tokenizer = my_tokenizer\n",
    "                                                )), \n",
    "                       ('rf', RandomForestClassifier(\n",
    "                                                     max_depth=24,\n",
    "                                                     min_samples_leaf=4,\n",
    "                                                     min_samples_split=3,\n",
    "                                                     n_estimators=100                       \n",
    "                                                     ))])\n",
    "pipe_cv_rf.fit(X_train, y_train);"
   ]
  },
  {
   "cell_type": "code",
   "execution_count": 20,
   "metadata": {
    "scrolled": true
   },
   "outputs": [
    {
     "data": {
      "text/plain": [
       "0.9189281798245614"
      ]
     },
     "execution_count": 20,
     "metadata": {},
     "output_type": "execute_result"
    }
   ],
   "source": [
    "pipe_cv_rf.score(X_train, y_train)"
   ]
  },
  {
   "cell_type": "code",
   "execution_count": 21,
   "metadata": {},
   "outputs": [
    {
     "data": {
      "text/plain": [
       "0.9112024665981501"
      ]
     },
     "execution_count": 21,
     "metadata": {},
     "output_type": "execute_result"
    }
   ],
   "source": [
    "pipe_cv_rf.score(X_test, y_test)"
   ]
  },
  {
   "cell_type": "code",
   "execution_count": 22,
   "metadata": {},
   "outputs": [],
   "source": [
    "pred = pipe_cv_rf.predict(X_test)"
   ]
  },
  {
   "cell_type": "code",
   "execution_count": 23,
   "metadata": {},
   "outputs": [
    {
     "data": {
      "text/html": [
       "<div>\n",
       "<style scoped>\n",
       "    .dataframe tbody tr th:only-of-type {\n",
       "        vertical-align: middle;\n",
       "    }\n",
       "\n",
       "    .dataframe tbody tr th {\n",
       "        vertical-align: top;\n",
       "    }\n",
       "\n",
       "    .dataframe thead th {\n",
       "        text-align: right;\n",
       "    }\n",
       "</style>\n",
       "<table border=\"1\" class=\"dataframe\">\n",
       "  <thead>\n",
       "    <tr style=\"text-align: right;\">\n",
       "      <th></th>\n",
       "      <th>pred hurricane</th>\n",
       "      <th>pred off-topic</th>\n",
       "      <th>pred tornado</th>\n",
       "    </tr>\n",
       "  </thead>\n",
       "  <tbody>\n",
       "    <tr>\n",
       "      <th>actual hurricane</th>\n",
       "      <td>1237</td>\n",
       "      <td>157</td>\n",
       "      <td>1</td>\n",
       "    </tr>\n",
       "    <tr>\n",
       "      <th>actual off-topic</th>\n",
       "      <td>58</td>\n",
       "      <td>2286</td>\n",
       "      <td>84</td>\n",
       "    </tr>\n",
       "    <tr>\n",
       "      <th>actual tornado</th>\n",
       "      <td>3</td>\n",
       "      <td>129</td>\n",
       "      <td>910</td>\n",
       "    </tr>\n",
       "  </tbody>\n",
       "</table>\n",
       "</div>"
      ],
      "text/plain": [
       "                  pred hurricane  pred off-topic  pred tornado\n",
       "actual hurricane            1237             157             1\n",
       "actual off-topic              58            2286            84\n",
       "actual tornado                 3             129           910"
      ]
     },
     "execution_count": 23,
     "metadata": {},
     "output_type": "execute_result"
    }
   ],
   "source": [
    "# Build a confusion matrix\n",
    "cm = confusion_matrix(y_test, pred)\n",
    "cm_df = pd.DataFrame(cm, columns=['pred hurricane', 'pred off-topic', 'pred tornado'], \n",
    "                     index=['actual hurricane', 'actual off-topic', 'actual tornado'])\n",
    "cm_df"
   ]
  },
  {
   "cell_type": "code",
   "execution_count": 24,
   "metadata": {
    "scrolled": false
   },
   "outputs": [
    {
     "name": "stdout",
     "output_type": "stream",
     "text": [
      "              precision    recall  f1-score   support\n",
      "\n",
      "   hurricane       0.95      0.89      0.92      1395\n",
      "   off-topic       0.89      0.94      0.91      2428\n",
      "     tornado       0.91      0.87      0.89      1042\n",
      "\n",
      "    accuracy                           0.91      4865\n",
      "   macro avg       0.92      0.90      0.91      4865\n",
      "weighted avg       0.91      0.91      0.91      4865\n",
      "\n"
     ]
    }
   ],
   "source": [
    "print(metrics.classification_report(y_test, pred))"
   ]
  },
  {
   "cell_type": "code",
   "execution_count": 28,
   "metadata": {},
   "outputs": [
    {
     "name": "stderr",
     "output_type": "stream",
     "text": [
      "C:\\Users\\tengw\\Anaconda3\\envs\\dsi\\lib\\site-packages\\sklearn\\feature_extraction\\text.py:300: UserWarning: Your stop_words may be inconsistent with your preprocessing. Tokenizing the stop words generated tokens ['3', 'far', 'good', 'little', 'make', '\\ufeff1'] not in stop_words.\n",
      "  'stop_words.' % sorted(inconsistent))\n"
     ]
    }
   ],
   "source": [
    "# Train model on entire corpus\n",
    "pipe_cv_rf.fit(X, y);"
   ]
  },
  {
   "cell_type": "markdown",
   "metadata": {},
   "source": [
    "### Import Test Tweets and Predict Using Random Forests"
   ]
  },
  {
   "cell_type": "code",
   "execution_count": 210,
   "metadata": {},
   "outputs": [
    {
     "data": {
      "text/html": [
       "<div>\n",
       "<style scoped>\n",
       "    .dataframe tbody tr th:only-of-type {\n",
       "        vertical-align: middle;\n",
       "    }\n",
       "\n",
       "    .dataframe tbody tr th {\n",
       "        vertical-align: top;\n",
       "    }\n",
       "\n",
       "    .dataframe thead th {\n",
       "        text-align: right;\n",
       "    }\n",
       "</style>\n",
       "<table border=\"1\" class=\"dataframe\">\n",
       "  <thead>\n",
       "    <tr style=\"text-align: right;\">\n",
       "      <th></th>\n",
       "      <th>screen_name</th>\n",
       "      <th>id_str</th>\n",
       "      <th>created_at</th>\n",
       "      <th>coordinates</th>\n",
       "      <th>place</th>\n",
       "      <th>text</th>\n",
       "      <th>geo_location</th>\n",
       "    </tr>\n",
       "  </thead>\n",
       "  <tbody>\n",
       "    <tr>\n",
       "      <th>0</th>\n",
       "      <td>BostonGlobe</td>\n",
       "      <td>1154116553283121152</td>\n",
       "      <td>2019-07-24 19:50:03</td>\n",
       "      <td>NaN</td>\n",
       "      <td>NaN</td>\n",
       "      <td>Governor Charlie Baker said Wednesday that state officials will seek a federal disaster declaration to support reco… https://t.co/IbVLxLIMS4</td>\n",
       "      <td>NaN</td>\n",
       "    </tr>\n",
       "    <tr>\n",
       "      <th>1</th>\n",
       "      <td>drjustinimel</td>\n",
       "      <td>1154116460026793984</td>\n",
       "      <td>2019-07-24 19:49:41</td>\n",
       "      <td>NaN</td>\n",
       "      <td>NaN</td>\n",
       "      <td>Rare tornado strikes Cape Cod, Massachusetts https://t.co/n07z2uL67n</td>\n",
       "      <td>NaN</td>\n",
       "    </tr>\n",
       "    <tr>\n",
       "      <th>2</th>\n",
       "      <td>boston25</td>\n",
       "      <td>1154116303503970305</td>\n",
       "      <td>2019-07-24 19:49:03</td>\n",
       "      <td>NaN</td>\n",
       "      <td>NaN</td>\n",
       "      <td>Gov. Baker to seek disaster declaration for Cape Cod tornado https://t.co/UHTx4smjRV</td>\n",
       "      <td>NaN</td>\n",
       "    </tr>\n",
       "    <tr>\n",
       "      <th>3</th>\n",
       "      <td>PaPaShArMFbI</td>\n",
       "      <td>1154115592812548096</td>\n",
       "      <td>2019-07-24 19:46:14</td>\n",
       "      <td>NaN</td>\n",
       "      <td>NaN</td>\n",
       "      <td>High winds rip roof off hotel as rare tornado strikes Massachusetts' Cape Cod https://t.co/1xdkFsNkhm via @CBSNews</td>\n",
       "      <td>NaN</td>\n",
       "    </tr>\n",
       "    <tr>\n",
       "      <th>4</th>\n",
       "      <td>Fa11outS</td>\n",
       "      <td>1154112647006183424</td>\n",
       "      <td>2019-07-24 19:34:32</td>\n",
       "      <td>NaN</td>\n",
       "      <td>NaN</td>\n",
       "      <td>Tornado hits Cape Cod leaving more than 33,000 residents without power | Fox News Here's the mainstream with that m… https://t.co/GGgWGYR6hk</td>\n",
       "      <td>NaN</td>\n",
       "    </tr>\n",
       "  </tbody>\n",
       "</table>\n",
       "</div>"
      ],
      "text/plain": [
       "    screen_name               id_str           created_at coordinates place  \\\n",
       "0  BostonGlobe   1154116553283121152  2019-07-24 19:50:03  NaN         NaN    \n",
       "1  drjustinimel  1154116460026793984  2019-07-24 19:49:41  NaN         NaN    \n",
       "2  boston25      1154116303503970305  2019-07-24 19:49:03  NaN         NaN    \n",
       "3  PaPaShArMFbI  1154115592812548096  2019-07-24 19:46:14  NaN         NaN    \n",
       "4  Fa11outS      1154112647006183424  2019-07-24 19:34:32  NaN         NaN    \n",
       "\n",
       "                                                                                                                                           text  \\\n",
       "0  Governor Charlie Baker said Wednesday that state officials will seek a federal disaster declaration to support reco… https://t.co/IbVLxLIMS4   \n",
       "1  Rare tornado strikes Cape Cod, Massachusetts https://t.co/n07z2uL67n                                                                           \n",
       "2  Gov. Baker to seek disaster declaration for Cape Cod tornado https://t.co/UHTx4smjRV                                                           \n",
       "3  High winds rip roof off hotel as rare tornado strikes Massachusetts' Cape Cod https://t.co/1xdkFsNkhm via @CBSNews                             \n",
       "4  Tornado hits Cape Cod leaving more than 33,000 residents without power | Fox News Here's the mainstream with that m… https://t.co/GGgWGYR6hk   \n",
       "\n",
       "  geo_location  \n",
       "0  NaN          \n",
       "1  NaN          \n",
       "2  NaN          \n",
       "3  NaN          \n",
       "4  NaN          "
      ]
     },
     "execution_count": 210,
     "metadata": {},
     "output_type": "execute_result"
    }
   ],
   "source": [
    "# Pull tweets from Cape Cod Tornado\n",
    "tweets_df1 = pd.read_csv(\"../datasets/cape_cod_tornado_12.csv\")\n",
    "# tweets_df1.head()"
   ]
  },
  {
   "cell_type": "code",
   "execution_count": 211,
   "metadata": {
    "scrolled": true
   },
   "outputs": [
    {
     "data": {
      "text/html": [
       "<div>\n",
       "<style scoped>\n",
       "    .dataframe tbody tr th:only-of-type {\n",
       "        vertical-align: middle;\n",
       "    }\n",
       "\n",
       "    .dataframe tbody tr th {\n",
       "        vertical-align: top;\n",
       "    }\n",
       "\n",
       "    .dataframe thead th {\n",
       "        text-align: right;\n",
       "    }\n",
       "</style>\n",
       "<table border=\"1\" class=\"dataframe\">\n",
       "  <thead>\n",
       "    <tr style=\"text-align: right;\">\n",
       "      <th></th>\n",
       "      <th>screen_name</th>\n",
       "      <th>id_str</th>\n",
       "      <th>created_at</th>\n",
       "      <th>coordinates</th>\n",
       "      <th>place</th>\n",
       "      <th>text</th>\n",
       "      <th>geo_location</th>\n",
       "    </tr>\n",
       "  </thead>\n",
       "  <tbody>\n",
       "    <tr>\n",
       "      <th>0</th>\n",
       "      <td>StebsClutchShot</td>\n",
       "      <td>1154122881862971392</td>\n",
       "      <td>2019-07-24 20:15:12</td>\n",
       "      <td>NaN</td>\n",
       "      <td>NaN</td>\n",
       "      <td>So, I survived a tornado yesterday. What did you do? #TornadoTuesday #MyLifeIsAverage https://t.co/bmnR8eHOUw</td>\n",
       "      <td>NaN</td>\n",
       "    </tr>\n",
       "    <tr>\n",
       "      <th>1</th>\n",
       "      <td>BCBSMA</td>\n",
       "      <td>1154122777806479365</td>\n",
       "      <td>2019-07-24 20:14:47</td>\n",
       "      <td>NaN</td>\n",
       "      <td>NaN</td>\n",
       "      <td>In response to recent severe storms and tornado activity on parts of Cape Cod, Blue Cross Blue Shield of Massachuse… https://t.co/ZjBAL9SmTK</td>\n",
       "      <td>NaN</td>\n",
       "    </tr>\n",
       "    <tr>\n",
       "      <th>2</th>\n",
       "      <td>wbznewsradio</td>\n",
       "      <td>1154122752628076544</td>\n",
       "      <td>2019-07-24 20:14:41</td>\n",
       "      <td>NaN</td>\n",
       "      <td>NaN</td>\n",
       "      <td>NWS says the first tornado started as a waterspout that came ashore west of Kalmus just before noon, and caused \"si… https://t.co/Kunr2AXAjF</td>\n",
       "      <td>NaN</td>\n",
       "    </tr>\n",
       "    <tr>\n",
       "      <th>3</th>\n",
       "      <td>WGME</td>\n",
       "      <td>1154122749549469696</td>\n",
       "      <td>2019-07-24 20:14:40</td>\n",
       "      <td>NaN</td>\n",
       "      <td>NaN</td>\n",
       "      <td>Crazy video of a Tornado that swept through Cape Cod yesterday! A man working on a sailboat when a strong storm ble… https://t.co/NIG8g84B70</td>\n",
       "      <td>NaN</td>\n",
       "    </tr>\n",
       "    <tr>\n",
       "      <th>4</th>\n",
       "      <td>BreakinNewz01</td>\n",
       "      <td>1154122661439705089</td>\n",
       "      <td>2019-07-24 20:14:19</td>\n",
       "      <td>NaN</td>\n",
       "      <td>NaN</td>\n",
       "      <td>JUST IN: 2 tornadoes touched down on Cape Cod Tuesday, NWS confirms https://t.co/D2vdUxJMiB https://t.co/QzjOH7HcYf</td>\n",
       "      <td>NaN</td>\n",
       "    </tr>\n",
       "  </tbody>\n",
       "</table>\n",
       "</div>"
      ],
      "text/plain": [
       "       screen_name               id_str           created_at coordinates  \\\n",
       "0  StebsClutchShot  1154122881862971392  2019-07-24 20:15:12  NaN          \n",
       "1  BCBSMA           1154122777806479365  2019-07-24 20:14:47  NaN          \n",
       "2  wbznewsradio     1154122752628076544  2019-07-24 20:14:41  NaN          \n",
       "3  WGME             1154122749549469696  2019-07-24 20:14:40  NaN          \n",
       "4  BreakinNewz01    1154122661439705089  2019-07-24 20:14:19  NaN          \n",
       "\n",
       "  place  \\\n",
       "0  NaN    \n",
       "1  NaN    \n",
       "2  NaN    \n",
       "3  NaN    \n",
       "4  NaN    \n",
       "\n",
       "                                                                                                                                           text  \\\n",
       "0  So, I survived a tornado yesterday. What did you do? #TornadoTuesday #MyLifeIsAverage https://t.co/bmnR8eHOUw                                  \n",
       "1  In response to recent severe storms and tornado activity on parts of Cape Cod, Blue Cross Blue Shield of Massachuse… https://t.co/ZjBAL9SmTK   \n",
       "2  NWS says the first tornado started as a waterspout that came ashore west of Kalmus just before noon, and caused \"si… https://t.co/Kunr2AXAjF   \n",
       "3  Crazy video of a Tornado that swept through Cape Cod yesterday! A man working on a sailboat when a strong storm ble… https://t.co/NIG8g84B70   \n",
       "4  JUST IN: 2 tornadoes touched down on Cape Cod Tuesday, NWS confirms https://t.co/D2vdUxJMiB https://t.co/QzjOH7HcYf                            \n",
       "\n",
       "  geo_location  \n",
       "0  NaN          \n",
       "1  NaN          \n",
       "2  NaN          \n",
       "3  NaN          \n",
       "4  NaN          "
      ]
     },
     "execution_count": 211,
     "metadata": {},
     "output_type": "execute_result"
    }
   ],
   "source": [
    "# Pull tweets from Cape Cod Tornado\n",
    "tweets_df2 = pd.read_csv(\"../datasets/cape_cod_tornado_13.csv\")\n",
    "# tweets_df2.head()"
   ]
  },
  {
   "cell_type": "code",
   "execution_count": 262,
   "metadata": {},
   "outputs": [
    {
     "data": {
      "text/plain": [
       "screen_name     object\n",
       "id_str          int64 \n",
       "created_at      object\n",
       "coordinates     object\n",
       "place           object\n",
       "text            object\n",
       "geo_location    object\n",
       "dtype: object"
      ]
     },
     "execution_count": 262,
     "metadata": {},
     "output_type": "execute_result"
    }
   ],
   "source": [
    "tweets_df2.dtypes"
   ]
  },
  {
   "cell_type": "code",
   "execution_count": 212,
   "metadata": {},
   "outputs": [
    {
     "data": {
      "text/plain": [
       "(825, 7)"
      ]
     },
     "execution_count": 212,
     "metadata": {},
     "output_type": "execute_result"
    }
   ],
   "source": [
    "# Combine Data\n",
    "tweets_df = pd.concat([tweets_df1, tweets_df2], ignore_index=True)\n",
    "\n",
    "tweets_df.shape"
   ]
  },
  {
   "cell_type": "code",
   "execution_count": 213,
   "metadata": {},
   "outputs": [],
   "source": [
    "tweets_df['pred'] = pred = pipe_cv_rf.predict(tweets_df['text'])"
   ]
  },
  {
   "cell_type": "code",
   "execution_count": 215,
   "metadata": {
    "scrolled": true
   },
   "outputs": [
    {
     "data": {
      "text/plain": [
       "tornado      673\n",
       "off-topic    144\n",
       "hurricane    8  \n",
       "Name: pred, dtype: int64"
      ]
     },
     "execution_count": 215,
     "metadata": {},
     "output_type": "execute_result"
    }
   ],
   "source": [
    "tweets_df.pred.value_counts()"
   ]
  },
  {
   "cell_type": "code",
   "execution_count": 216,
   "metadata": {},
   "outputs": [],
   "source": [
    "# Referenced the following link to see how to display all the text\n",
    "# https://stackoverflow.com/questions/25351968/how-to-display-full-non-truncated-dataframe-information-in-html-when-convertin\n",
    "pd.set_option('display.max_colwidth', -1)"
   ]
  },
  {
   "cell_type": "code",
   "execution_count": 217,
   "metadata": {
    "scrolled": true
   },
   "outputs": [
    {
     "data": {
      "text/plain": [
       "222    #Cleanup efforts are underway across Cape Cod after a power #storm raged through the southern portion of the region… https://t.co/x2gjXf2bKL\n",
       "352    Power remains out in large areas of Cape Cod that were pounded in yesterday's storm\\n https://t.co/iSL0Z4FdNx                               \n",
       "396    \"This is insane!\"\\n\\nCorey Smith was alone in the water off Chatham when he captured video of the storm's power.… https://t.co/qBHJqsEn0F   \n",
       "469    Severe storms have continued to hammer the East Coast in the wake of the heat wave, with flash flooding, hundreds o… https://t.co/FU7FMI7yEE\n",
       "560    @MollyJongFast Then he's in the middle of tornado hurricane tsunami cyclone and a snowstorm all at once.                                    \n",
       "577    @ChatByCC @realDonaldTrump Like a tornado or hurricane or tropical depression.... https://t.co/SnfSiODYF1                                   \n",
       "592    Ok, I've tried to be the lady I was raised to be, but that hearing was a trainwreck in the middle of a hurricane, e… https://t.co/3uMxwYWbbW\n",
       "643    I moved here with the expectation of only having like one hurricane. But a tornado? This is some bull shit https://t.co/ZVGmCj4dES          \n",
       "Name: text, dtype: object"
      ]
     },
     "execution_count": 217,
     "metadata": {},
     "output_type": "execute_result"
    }
   ],
   "source": [
    "tweets_df[tweets_df[\"pred\"] == \"hurricane\"][\"text\"]"
   ]
  },
  {
   "cell_type": "code",
   "execution_count": 218,
   "metadata": {},
   "outputs": [
    {
     "data": {
      "text/plain": [
       "screen_name     0  \n",
       "id_str          0  \n",
       "created_at      0  \n",
       "coordinates     820\n",
       "place           797\n",
       "text            0  \n",
       "geo_location    820\n",
       "pred            0  \n",
       "dtype: int64"
      ]
     },
     "execution_count": 218,
     "metadata": {},
     "output_type": "execute_result"
    }
   ],
   "source": [
    "tweets_df.isnull().sum()"
   ]
  },
  {
   "cell_type": "code",
   "execution_count": 219,
   "metadata": {},
   "outputs": [],
   "source": [
    "geo_tweets_df = tweets_df[(tweets_df[\"pred\"] == \"tornado\") & ~(tweets_df[\"coordinates\"].isnull())]"
   ]
  },
  {
   "cell_type": "code",
   "execution_count": 221,
   "metadata": {
    "scrolled": true
   },
   "outputs": [
    {
     "name": "stderr",
     "output_type": "stream",
     "text": [
      "C:\\Users\\tengw\\Anaconda3\\envs\\dsi\\lib\\site-packages\\ipykernel_launcher.py:4: SettingWithCopyWarning: \n",
      "A value is trying to be set on a copy of a slice from a DataFrame.\n",
      "Try using .loc[row_indexer,col_indexer] = value instead\n",
      "\n",
      "See the caveats in the documentation: http://pandas.pydata.org/pandas-docs/stable/user_guide/indexing.html#returning-a-view-versus-a-copy\n",
      "  after removing the cwd from sys.path.\n"
     ]
    }
   ],
   "source": [
    "# How to parse out a dictionary from a string\n",
    "# https://stackoverflow.com/questions/988228/convert-a-string-representation-of-a-dictionary-to-a-dictionary\n",
    "\n",
    "geo_tweets_df['geo_location_dict'] = [json.loads(g.replace(\"'\", \"\\\"\")) for g in geo_tweets_df['geo_location']]"
   ]
  },
  {
   "cell_type": "code",
   "execution_count": 223,
   "metadata": {},
   "outputs": [
    {
     "name": "stderr",
     "output_type": "stream",
     "text": [
      "C:\\Users\\tengw\\Anaconda3\\envs\\dsi\\lib\\site-packages\\ipykernel_launcher.py:1: SettingWithCopyWarning: \n",
      "A value is trying to be set on a copy of a slice from a DataFrame.\n",
      "Try using .loc[row_indexer,col_indexer] = value instead\n",
      "\n",
      "See the caveats in the documentation: http://pandas.pydata.org/pandas-docs/stable/user_guide/indexing.html#returning-a-view-versus-a-copy\n",
      "  \"\"\"Entry point for launching an IPython kernel.\n"
     ]
    }
   ],
   "source": [
    "geo_tweets_df[\"latitude\"] = [g['coordinates'][0] for g in geo_tweets_df[\"geo_location_dict\"]]"
   ]
  },
  {
   "cell_type": "code",
   "execution_count": 224,
   "metadata": {},
   "outputs": [
    {
     "name": "stderr",
     "output_type": "stream",
     "text": [
      "C:\\Users\\tengw\\Anaconda3\\envs\\dsi\\lib\\site-packages\\ipykernel_launcher.py:1: SettingWithCopyWarning: \n",
      "A value is trying to be set on a copy of a slice from a DataFrame.\n",
      "Try using .loc[row_indexer,col_indexer] = value instead\n",
      "\n",
      "See the caveats in the documentation: http://pandas.pydata.org/pandas-docs/stable/user_guide/indexing.html#returning-a-view-versus-a-copy\n",
      "  \"\"\"Entry point for launching an IPython kernel.\n"
     ]
    }
   ],
   "source": [
    "geo_tweets_df[\"longitude\"] = [g['coordinates'][1] for g in geo_tweets_df[\"geo_location_dict\"]]"
   ]
  },
  {
   "cell_type": "code",
   "execution_count": 226,
   "metadata": {},
   "outputs": [],
   "source": [
    "# Save the tweets with geolocation data dataframe to a csv file\n",
    "geo_tweets_df.to_csv('../datasets/geo_tweets.csv', index=False)"
   ]
  },
  {
   "cell_type": "markdown",
   "metadata": {},
   "source": [
    "### Import Test Tweets and Predict Using Logistic Regression"
   ]
  },
  {
   "cell_type": "code",
   "execution_count": 201,
   "metadata": {},
   "outputs": [
    {
     "data": {
      "text/html": [
       "<div>\n",
       "<style scoped>\n",
       "    .dataframe tbody tr th:only-of-type {\n",
       "        vertical-align: middle;\n",
       "    }\n",
       "\n",
       "    .dataframe tbody tr th {\n",
       "        vertical-align: top;\n",
       "    }\n",
       "\n",
       "    .dataframe thead th {\n",
       "        text-align: right;\n",
       "    }\n",
       "</style>\n",
       "<table border=\"1\" class=\"dataframe\">\n",
       "  <thead>\n",
       "    <tr style=\"text-align: right;\">\n",
       "      <th></th>\n",
       "      <th>screen_name</th>\n",
       "      <th>id_str</th>\n",
       "      <th>created_at</th>\n",
       "      <th>coordinates</th>\n",
       "      <th>place</th>\n",
       "      <th>text</th>\n",
       "      <th>geo_location</th>\n",
       "    </tr>\n",
       "  </thead>\n",
       "  <tbody>\n",
       "    <tr>\n",
       "      <th>0</th>\n",
       "      <td>BostonGlobe</td>\n",
       "      <td>1154116553283121152</td>\n",
       "      <td>2019-07-24 19:50:03</td>\n",
       "      <td>NaN</td>\n",
       "      <td>NaN</td>\n",
       "      <td>Governor Charlie Baker said Wednesday that sta...</td>\n",
       "      <td>NaN</td>\n",
       "    </tr>\n",
       "    <tr>\n",
       "      <th>1</th>\n",
       "      <td>drjustinimel</td>\n",
       "      <td>1154116460026793984</td>\n",
       "      <td>2019-07-24 19:49:41</td>\n",
       "      <td>NaN</td>\n",
       "      <td>NaN</td>\n",
       "      <td>Rare tornado strikes Cape Cod, Massachusetts h...</td>\n",
       "      <td>NaN</td>\n",
       "    </tr>\n",
       "    <tr>\n",
       "      <th>2</th>\n",
       "      <td>boston25</td>\n",
       "      <td>1154116303503970305</td>\n",
       "      <td>2019-07-24 19:49:03</td>\n",
       "      <td>NaN</td>\n",
       "      <td>NaN</td>\n",
       "      <td>Gov. Baker to seek disaster declaration for Ca...</td>\n",
       "      <td>NaN</td>\n",
       "    </tr>\n",
       "    <tr>\n",
       "      <th>3</th>\n",
       "      <td>PaPaShArMFbI</td>\n",
       "      <td>1154115592812548096</td>\n",
       "      <td>2019-07-24 19:46:14</td>\n",
       "      <td>NaN</td>\n",
       "      <td>NaN</td>\n",
       "      <td>High winds rip roof off hotel as rare tornado ...</td>\n",
       "      <td>NaN</td>\n",
       "    </tr>\n",
       "    <tr>\n",
       "      <th>4</th>\n",
       "      <td>Fa11outS</td>\n",
       "      <td>1154112647006183424</td>\n",
       "      <td>2019-07-24 19:34:32</td>\n",
       "      <td>NaN</td>\n",
       "      <td>NaN</td>\n",
       "      <td>Tornado hits Cape Cod leaving more than 33,000...</td>\n",
       "      <td>NaN</td>\n",
       "    </tr>\n",
       "  </tbody>\n",
       "</table>\n",
       "</div>"
      ],
      "text/plain": [
       "    screen_name               id_str           created_at coordinates place  \\\n",
       "0   BostonGlobe  1154116553283121152  2019-07-24 19:50:03         NaN   NaN   \n",
       "1  drjustinimel  1154116460026793984  2019-07-24 19:49:41         NaN   NaN   \n",
       "2      boston25  1154116303503970305  2019-07-24 19:49:03         NaN   NaN   \n",
       "3  PaPaShArMFbI  1154115592812548096  2019-07-24 19:46:14         NaN   NaN   \n",
       "4      Fa11outS  1154112647006183424  2019-07-24 19:34:32         NaN   NaN   \n",
       "\n",
       "                                                text geo_location  \n",
       "0  Governor Charlie Baker said Wednesday that sta...          NaN  \n",
       "1  Rare tornado strikes Cape Cod, Massachusetts h...          NaN  \n",
       "2  Gov. Baker to seek disaster declaration for Ca...          NaN  \n",
       "3  High winds rip roof off hotel as rare tornado ...          NaN  \n",
       "4  Tornado hits Cape Cod leaving more than 33,000...          NaN  "
      ]
     },
     "execution_count": 201,
     "metadata": {},
     "output_type": "execute_result"
    }
   ],
   "source": [
    "# Pull tweets from Cape Cod Tornado\n",
    "tweets_df1 = pd.read_csv(\"../datasets/cape_cod_tornado_12.csv\")\n",
    "# tweets_df1.head()"
   ]
  },
  {
   "cell_type": "code",
   "execution_count": 202,
   "metadata": {},
   "outputs": [
    {
     "data": {
      "text/html": [
       "<div>\n",
       "<style scoped>\n",
       "    .dataframe tbody tr th:only-of-type {\n",
       "        vertical-align: middle;\n",
       "    }\n",
       "\n",
       "    .dataframe tbody tr th {\n",
       "        vertical-align: top;\n",
       "    }\n",
       "\n",
       "    .dataframe thead th {\n",
       "        text-align: right;\n",
       "    }\n",
       "</style>\n",
       "<table border=\"1\" class=\"dataframe\">\n",
       "  <thead>\n",
       "    <tr style=\"text-align: right;\">\n",
       "      <th></th>\n",
       "      <th>screen_name</th>\n",
       "      <th>id_str</th>\n",
       "      <th>created_at</th>\n",
       "      <th>coordinates</th>\n",
       "      <th>place</th>\n",
       "      <th>text</th>\n",
       "      <th>geo_location</th>\n",
       "    </tr>\n",
       "  </thead>\n",
       "  <tbody>\n",
       "    <tr>\n",
       "      <th>0</th>\n",
       "      <td>StebsClutchShot</td>\n",
       "      <td>1154122881862971392</td>\n",
       "      <td>2019-07-24 20:15:12</td>\n",
       "      <td>NaN</td>\n",
       "      <td>NaN</td>\n",
       "      <td>So, I survived a tornado yesterday. What did y...</td>\n",
       "      <td>NaN</td>\n",
       "    </tr>\n",
       "    <tr>\n",
       "      <th>1</th>\n",
       "      <td>BCBSMA</td>\n",
       "      <td>1154122777806479365</td>\n",
       "      <td>2019-07-24 20:14:47</td>\n",
       "      <td>NaN</td>\n",
       "      <td>NaN</td>\n",
       "      <td>In response to recent severe storms and tornad...</td>\n",
       "      <td>NaN</td>\n",
       "    </tr>\n",
       "    <tr>\n",
       "      <th>2</th>\n",
       "      <td>wbznewsradio</td>\n",
       "      <td>1154122752628076544</td>\n",
       "      <td>2019-07-24 20:14:41</td>\n",
       "      <td>NaN</td>\n",
       "      <td>NaN</td>\n",
       "      <td>NWS says the first tornado started as a waters...</td>\n",
       "      <td>NaN</td>\n",
       "    </tr>\n",
       "    <tr>\n",
       "      <th>3</th>\n",
       "      <td>WGME</td>\n",
       "      <td>1154122749549469696</td>\n",
       "      <td>2019-07-24 20:14:40</td>\n",
       "      <td>NaN</td>\n",
       "      <td>NaN</td>\n",
       "      <td>Crazy video of a Tornado that swept through Ca...</td>\n",
       "      <td>NaN</td>\n",
       "    </tr>\n",
       "    <tr>\n",
       "      <th>4</th>\n",
       "      <td>BreakinNewz01</td>\n",
       "      <td>1154122661439705089</td>\n",
       "      <td>2019-07-24 20:14:19</td>\n",
       "      <td>NaN</td>\n",
       "      <td>NaN</td>\n",
       "      <td>JUST IN: 2 tornadoes touched down on Cape Cod ...</td>\n",
       "      <td>NaN</td>\n",
       "    </tr>\n",
       "  </tbody>\n",
       "</table>\n",
       "</div>"
      ],
      "text/plain": [
       "       screen_name               id_str           created_at coordinates  \\\n",
       "0  StebsClutchShot  1154122881862971392  2019-07-24 20:15:12         NaN   \n",
       "1           BCBSMA  1154122777806479365  2019-07-24 20:14:47         NaN   \n",
       "2     wbznewsradio  1154122752628076544  2019-07-24 20:14:41         NaN   \n",
       "3             WGME  1154122749549469696  2019-07-24 20:14:40         NaN   \n",
       "4    BreakinNewz01  1154122661439705089  2019-07-24 20:14:19         NaN   \n",
       "\n",
       "  place                                               text geo_location  \n",
       "0   NaN  So, I survived a tornado yesterday. What did y...          NaN  \n",
       "1   NaN  In response to recent severe storms and tornad...          NaN  \n",
       "2   NaN  NWS says the first tornado started as a waters...          NaN  \n",
       "3   NaN  Crazy video of a Tornado that swept through Ca...          NaN  \n",
       "4   NaN  JUST IN: 2 tornadoes touched down on Cape Cod ...          NaN  "
      ]
     },
     "execution_count": 202,
     "metadata": {},
     "output_type": "execute_result"
    }
   ],
   "source": [
    "# Pull tweets from Cape Cod Tornado\n",
    "tweets_df2 = pd.read_csv(\"../datasets/cape_cod_tornado_13.csv\")\n",
    "# tweets_df2.head()"
   ]
  },
  {
   "cell_type": "code",
   "execution_count": 203,
   "metadata": {},
   "outputs": [
    {
     "data": {
      "text/plain": [
       "(825, 7)"
      ]
     },
     "execution_count": 203,
     "metadata": {},
     "output_type": "execute_result"
    }
   ],
   "source": [
    "# Combine Data\n",
    "tweets_df = pd.concat([tweets_df1, tweets_df2], ignore_index=True)\n",
    "\n",
    "tweets_df.shape"
   ]
  },
  {
   "cell_type": "code",
   "execution_count": 204,
   "metadata": {},
   "outputs": [],
   "source": [
    "tweets_df['pred'] = pred = pipe_cv_lg.predict(tweets_df['text'])"
   ]
  },
  {
   "cell_type": "code",
   "execution_count": 206,
   "metadata": {},
   "outputs": [
    {
     "data": {
      "text/plain": [
       "tornado      636\n",
       "off-topic    159\n",
       "hurricane     30\n",
       "Name: pred, dtype: int64"
      ]
     },
     "execution_count": 206,
     "metadata": {},
     "output_type": "execute_result"
    }
   ],
   "source": [
    "tweets_df.pred.value_counts()"
   ]
  },
  {
   "cell_type": "code",
   "execution_count": 209,
   "metadata": {
    "scrolled": true
   },
   "outputs": [
    {
     "data": {
      "text/plain": [
       "12     WATCH: A man working on a sailboat when a strong storm blew through Cape Cod managed to hang on and record the dram… https://t.co/VdO8e3jggD    \n",
       "44     Between Fort Greene and Southeast Queens, I lived in NYC for over three decades. I don't recall flooding in… https://t.co/PciwrymZDB            \n",
       "67     .@MassGovernor tells reporters 32 thousand customers are still without power in the areas of Cape Cod hit by yester… https://t.co/X2Ko9lZzhW    \n",
       "124    Downtown Chatham still has no power. Most main street businesses are closed. Lots of cleanup work is still being do… https://t.co/6SFabzrslZ    \n",
       "176    Video shows the roof of the Cape Sands Inn in West Yarmouth getting blown off during the storm that brought a torna… https://t.co/G7t7ZBIleF    \n",
       "222    #Cleanup efforts are underway across Cape Cod after a power #storm raged through the southern portion of the region… https://t.co/x2gjXf2bKL    \n",
       "279    Wow; the most used verb for this storm https://t.co/xCVYp2Lwa6                                                                                  \n",
       "293    It ripped off a hotel roof, toppled trees and knocked out power to thousands during the peak of tourist season. https://t.co/6kX2X6tukR         \n",
       "352    Power remains out in large areas of Cape Cod that were pounded in yesterday's storm\\n https://t.co/iSL0Z4FdNx                                   \n",
       "354    Gallery: Damage from Cape Cod storm\\n https://t.co/GNDhtDJvbr                                                                                   \n",
       "396    \"This is insane!\"\\n\\nCorey Smith was alone in the water off Chatham when he captured video of the storm's power.… https://t.co/qBHJqsEn0F       \n",
       "469    Severe storms have continued to hammer the East Coast in the wake of the heat wave, with flash flooding, hundreds o… https://t.co/FU7FMI7yEE    \n",
       "484    It ripped off a hotel roof, toppled trees and knocked out power to thousands during the peak of tourist season. https://t.co/WTZIZj0cNE         \n",
       "560    @MollyJongFast Then he's in the middle of tornado hurricane tsunami cyclone and a snowstorm all at once.                                        \n",
       "577    @ChatByCC @realDonaldTrump Like a tornado or hurricane or tropical depression.... https://t.co/SnfSiODYF1                                       \n",
       "592    Ok, I've tried to be the lady I was raised to be, but that hearing was a trainwreck in the middle of a hurricane, e… https://t.co/3uMxwYWbbW    \n",
       "612    Flood Warning issued July 24 at 9:44AM CDT until further notice by NWS https://t.co/FXBnVcXbI1                                                  \n",
       "613    Flood Warning issued July 24 at 9:44AM CDT until further notice by NWS https://t.co/2GIntp4uRx                                                  \n",
       "614    Flood Warning issued July 24 at 9:33AM CDT until further notice by NWS https://t.co/jnDVbbqimI                                                  \n",
       "626    Two months ago, the SAVE Coalition helped local officials in Jefferson City &amp; Cole County with damage assessments t… https://t.co/zupKxZ0D7l\n",
       "643    I moved here with the expectation of only having like one hurricane. But a tornado? This is some bull shit https://t.co/ZVGmCj4dES              \n",
       "651    WATCH: A man working on a sailboat when a strong storm blew through Cape Cod managed to hang on and record the dram… https://t.co/VdO8e3jggD    \n",
       "695    Proper planning, preparation and proactive steps to reduce damage can help businesses survive and become more resil… https://t.co/qmJvB7tu3f    \n",
       "696    Proper planning, preparation and proactive steps to reduce damage can help businesses survive and become more resil… https://t.co/jlffLPT6Le    \n",
       "697    Proper planning, preparation and proactive steps to reduce damage can help businesses survive and become more resil… https://t.co/elKOTVvRtJ    \n",
       "698    Proper planning, preparation and proactive steps to reduce damage can help businesses survive and become more resil… https://t.co/NB5c55OhNV    \n",
       "755    Cape Playhouse still doesn’t have power. They’re performing the opening day of A Chorus Line with a generator, no A… https://t.co/a8YDuIako9    \n",
       "765    Between Fort Greene and Southeast Queens, I lived in NYC for over three decades. I don't recall flooding in… https://t.co/PciwrymZDB            \n",
       "804    From our partner @ReadyWisconsin. Be safe during storm clean up!. Be sure to wear #gloves and #boots to avoid injur… https://t.co/oLftjLKfiv    \n",
       "821    TODAY'S storm threat. Warnings here --&gt; https://t.co/FGL6RNAcqm Track storms here--&gt; https://t.co/0D27PZvW9d… https://t.co/HCl7dQ335D     \n",
       "Name: text, dtype: object"
      ]
     },
     "execution_count": 209,
     "metadata": {},
     "output_type": "execute_result"
    }
   ],
   "source": [
    "tweets_df[tweets_df[\"pred\"] == \"hurricane\"][\"text\"]"
   ]
  },
  {
   "cell_type": "code",
   "execution_count": null,
   "metadata": {},
   "outputs": [],
   "source": []
  }
 ],
 "metadata": {
  "kernelspec": {
   "display_name": "Python [conda env:dsi] *",
   "language": "python",
   "name": "conda-env-dsi-py"
  },
  "language_info": {
   "codemirror_mode": {
    "name": "ipython",
    "version": 3
   },
   "file_extension": ".py",
   "mimetype": "text/x-python",
   "name": "python",
   "nbconvert_exporter": "python",
   "pygments_lexer": "ipython3",
   "version": "3.7.3"
  }
 },
 "nbformat": 4,
 "nbformat_minor": 2
}
